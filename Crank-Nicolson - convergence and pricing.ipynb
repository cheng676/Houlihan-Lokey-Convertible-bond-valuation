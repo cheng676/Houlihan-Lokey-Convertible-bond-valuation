{
 "cells": [
  {
   "cell_type": "code",
   "execution_count": 2,
   "id": "72c6bf00-0d3d-4758-931e-70f17f6bbd06",
   "metadata": {},
   "outputs": [
    {
     "data": {
      "text/html": [
       "<div>\n",
       "<style scoped>\n",
       "    .dataframe tbody tr th:only-of-type {\n",
       "        vertical-align: middle;\n",
       "    }\n",
       "\n",
       "    .dataframe tbody tr th {\n",
       "        vertical-align: top;\n",
       "    }\n",
       "\n",
       "    .dataframe thead th {\n",
       "        text-align: right;\n",
       "    }\n",
       "</style>\n",
       "<table border=\"1\" class=\"dataframe\">\n",
       "  <thead>\n",
       "    <tr style=\"text-align: right;\">\n",
       "      <th></th>\n",
       "      <th>0</th>\n",
       "      <th>1</th>\n",
       "    </tr>\n",
       "  </thead>\n",
       "  <tbody>\n",
       "    <tr>\n",
       "      <th>0</th>\n",
       "      <td>TEVA 0 ¼ 02/01/26 Corp</td>\n",
       "      <td>0.0000</td>\n",
       "    </tr>\n",
       "    <tr>\n",
       "      <th>1</th>\n",
       "      <td>LBRDA 3.125 03/31/53 Corp</td>\n",
       "      <td>0.0010</td>\n",
       "    </tr>\n",
       "    <tr>\n",
       "      <th>2</th>\n",
       "      <td>CMCSA 2 10/15/29 Corp</td>\n",
       "      <td>0.0276</td>\n",
       "    </tr>\n",
       "    <tr>\n",
       "      <th>3</th>\n",
       "      <td>DISH 2 ⅜ 03/15/24 Corp</td>\n",
       "      <td>0.0000</td>\n",
       "    </tr>\n",
       "    <tr>\n",
       "      <th>4</th>\n",
       "      <td>DISH 2 ⅜ 08/15/24 Corp</td>\n",
       "      <td>0.0000</td>\n",
       "    </tr>\n",
       "    <tr>\n",
       "      <th>...</th>\n",
       "      <td>...</td>\n",
       "      <td>...</td>\n",
       "    </tr>\n",
       "    <tr>\n",
       "      <th>80</th>\n",
       "      <td>ATSG 1.125 10/15/24 Corp</td>\n",
       "      <td>0.1817</td>\n",
       "    </tr>\n",
       "    <tr>\n",
       "      <th>81</th>\n",
       "      <td>VSH 2.25 06/15/25 Corp</td>\n",
       "      <td>0.0182</td>\n",
       "    </tr>\n",
       "    <tr>\n",
       "      <th>82</th>\n",
       "      <td>AY 4 07/15/25 Corp</td>\n",
       "      <td>0.0980</td>\n",
       "    </tr>\n",
       "    <tr>\n",
       "      <th>83</th>\n",
       "      <td>LNT 3.875 03/15/26 Corp</td>\n",
       "      <td>0.0396</td>\n",
       "    </tr>\n",
       "    <tr>\n",
       "      <th>84</th>\n",
       "      <td>CNP 4.25 08/15/26 Corp</td>\n",
       "      <td>0.0287</td>\n",
       "    </tr>\n",
       "  </tbody>\n",
       "</table>\n",
       "<p>85 rows × 2 columns</p>\n",
       "</div>"
      ],
      "text/plain": [
       "                            0       1\n",
       "0      TEVA 0 ¼ 02/01/26 Corp  0.0000\n",
       "1   LBRDA 3.125 03/31/53 Corp  0.0010\n",
       "2       CMCSA 2 10/15/29 Corp  0.0276\n",
       "3      DISH 2 ⅜ 03/15/24 Corp  0.0000\n",
       "4      DISH 2 ⅜ 08/15/24 Corp  0.0000\n",
       "..                        ...     ...\n",
       "80   ATSG 1.125 10/15/24 Corp  0.1817\n",
       "81     VSH 2.25 06/15/25 Corp  0.0182\n",
       "82         AY 4 07/15/25 Corp  0.0980\n",
       "83    LNT 3.875 03/15/26 Corp  0.0396\n",
       "84     CNP 4.25 08/15/26 Corp  0.0287\n",
       "\n",
       "[85 rows x 2 columns]"
      ]
     },
     "execution_count": 2,
     "metadata": {},
     "output_type": "execute_result"
    }
   ],
   "source": [
    "import pandas as pd\n",
    "'''\n",
    "Read Data to get asset names\n",
    "'''\n",
    "file_path = \"CBdata.xlsx\"\n",
    "xls = pd.read_excel(file_path, sheet_name=None, header=None,engine='openpyxl')\n",
    "Name_df = xls[\"NaME\"]\n",
    "\n",
    "import numpy as np\n",
    "import matplotlib.pyplot as plt\n",
    "from numba import jit\n",
    "import pandas as pd\n",
    "import scipy.stats as stats\n",
    "import warnings\n",
    "import math\n",
    "import time\n",
    "import matplotlib.pyplot as plt\n",
    "from mpl_toolkits.mplot3d import Axes3D\n",
    "from numba import jit\n",
    "\n",
    "from functions import block_thomas_solve\n",
    "from functions import crank_nicolson_TF_dxdt\n",
    "\n",
    "from functions import explicit_FD\n",
    "from functions import find_between\n",
    "\n",
    "Name_df"
   ]
  },
  {
   "cell_type": "code",
   "execution_count": 6,
   "id": "c7d4fdd8-ecf7-4b92-9793-2d2018bb0b94",
   "metadata": {},
   "outputs": [],
   "source": [
    "import tqdm\n",
    "# iterate asset names\n",
    "\n",
    "i=3\n",
    "d=Name_df.iloc[i,1] # 股息率\n",
    "CB_df=list(xls.values())[i]\n",
    "\n",
    "# extract parameters\n",
    "CR=CB_df.iloc[0,9]     # conversion ratio\n",
    "CP=CB_df.iloc[1,9]     # conversion price\n",
    "Coupon=CB_df.iloc[2,9]/100\n",
    "FCP=pd.to_datetime(CB_df.iloc[4,9]) # first coupon payment\n",
    "CFQ=CB_df.iloc[5,9]     # Coupon Frequency\n",
    "M=pd.to_datetime(CB_df.iloc[6,9])   # Maturity date\n",
    "call_date = CB_df.iloc[0,12]\n",
    "call_price = CB_df.iloc[1,12]\n",
    "put_date = CB_df.iloc[2,12]\n",
    "put_price = CB_df.iloc[3,12]\n",
    "\n",
    "# Data Processing\n",
    "Price_df= CB_df.iloc[9:, 0:2].dropna()\n",
    "IVOL_df=CB_df.iloc[9:, 5:7].dropna()\n",
    "CDS_df=CB_df.iloc[9:, 7:9].dropna()\n",
    "S_df=CB_df.iloc[9:, 9:11].dropna()\n",
    "Price_df= Price_df.rename(columns={0: \"date\", 1: 'bond_price'})\n",
    "CDS_df= CDS_df.rename(columns={7: \"date\", 8: 'CDS'})\n",
    "IVOL_df= IVOL_df.rename(columns={5: \"date\", 6: 'IVOL'})\n",
    "S_df= S_df.rename(columns={9: \"date\", 10: 'S'})\n",
    "Price_df['date'] = pd.to_datetime(Price_df['date'])\n",
    "IVOL_df['date'] = pd.to_datetime(IVOL_df['date'])\n",
    "CDS_df['date'] = pd.to_datetime(CDS_df['date'])\n",
    "S_df['date'] = pd.to_datetime(S_df['date'])\n",
    "# Merge all data together (CBprice,IV,CDS,StockPrice)\n",
    "Price_df = pd.merge(Price_df, IVOL_df, on=\"date\", how='inner')\n",
    "Price_df = pd.merge(Price_df, CDS_df, on=\"date\", how='inner')\n",
    "Price_df = pd.merge(Price_df, S_df, on=\"date\", how='inner')\n",
    "\n",
    "# Interplotation of Risk Free Rates in Different Periods\n",
    "r_df=xls['R'].rename(columns={0: \"date\"}).iloc[1:,:]\n",
    "r_df['date'] = pd.to_datetime(r_df['date']) \n",
    "Price_df = pd.merge(Price_df, r_df, on=\"date\", how='inner')\n",
    "Price_df =Price_df .dropna()\n",
    "if len(Price_df)<2:\n",
    "    print(i)\n",
    "\n",
    "# rate interplotation and simulate price\n",
    "rlist=[1/12,1/6,1/4,1/2,1,2,3,5,7,10,20,30]\n",
    "SimulatePrice=[]\n",
    "\n",
    "# for j in tqdm.tqdm(range(len(Price_df))):\n",
    "j = 0\n",
    "date1,v,CDS,S=Price_df.iloc[j,0],Price_df.iloc[j,2],Price_df.iloc[j,3],Price_df.iloc[j,4]\n",
    "T = (M - date1).days\n",
    "CPT=(FCP - date1).days%(360/CFQ)/T\n",
    "Year=T/360\n",
    "rlow,rhigh=find_between(rlist,Year)\n",
    "r=((Year-rlow)*Price_df.iloc[j,int(rlist.index(rlow))+5]/(rhigh-rlow)+(rhigh-Year)*Price_df.iloc[j,int(rlist.index(rhigh))+5]/(rhigh-rlow))/100"
   ]
  },
  {
   "cell_type": "code",
   "execution_count": 8,
   "id": "04d42e4f-bf7d-41d0-9752-eddc65fb166c",
   "metadata": {},
   "outputs": [
    {
     "data": {
      "text/plain": [
       "91.63500878239647"
      ]
     },
     "execution_count": 8,
     "metadata": {},
     "output_type": "execute_result"
    }
   ],
   "source": [
    "explicit_FD(100, Year, v/100, r, d, CDS/10000, CP, Coupon, CFQ, CPT, 400, 15000, call_price, put_price, S)"
   ]
  },
  {
   "cell_type": "code",
   "execution_count": 16,
   "id": "d901c12a-c628-4ecb-9dc9-88eeb14cd1b6",
   "metadata": {},
   "outputs": [
    {
     "data": {
      "text/plain": [
       "106.74790317895291"
      ]
     },
     "execution_count": 16,
     "metadata": {},
     "output_type": "execute_result"
    }
   ],
   "source": [
    "crank_nicolson_TF_dxdt(100, Year, v/100, r, d, CDS/10000, CP, Coupon, CFQ, CPT, 1, 4/15000)"
   ]
  },
  {
   "cell_type": "markdown",
   "id": "31a56e29-4749-4b43-bcc3-3984773adad9",
   "metadata": {},
   "source": [
    "# test convrgence"
   ]
  },
  {
   "cell_type": "code",
   "execution_count": 4,
   "id": "ab0d1b68-8a26-4284-981b-56ebc4caa0d1",
   "metadata": {},
   "outputs": [
    {
     "name": "stdout",
     "output_type": "stream",
     "text": [
      "dx in our test: [1.00000000e-03 1.50989716e-03 2.27978944e-03 3.44224760e-03\n",
      " 5.19743987e-03 7.84759970e-03 1.18490685e-02 1.78908749e-02\n",
      " 2.70133812e-02 4.07874276e-02 6.15848211e-02 9.29867465e-02\n",
      " 1.40400425e-01 2.11990202e-01 3.20083405e-01 4.83293024e-01\n",
      " 7.29722764e-01 1.10180633e+00 1.66361425e+00 2.51188643e+00]\n"
     ]
    },
    {
     "name": "stderr",
     "output_type": "stream",
     "text": [
      "100%|██████████| 20/20 [03:23<00:00, 10.17s/it]\n"
     ]
    },
    {
     "name": "stdout",
     "output_type": "stream",
     "text": [
      "dt in our test: [0.0001     0.0001269  0.00016103 0.00020434 0.00025929 0.00032903\n",
      " 0.00041753 0.00052983 0.00067234 0.00085317 0.00108264 0.00137382\n",
      " 0.00174333 0.00221222 0.00280722 0.00356225 0.00452035 0.00573615\n",
      " 0.00727895 0.00923671 0.01172102 0.01487352 0.01887392 0.02395027\n",
      " 0.03039195 0.0385662  0.04893901 0.06210169 0.07880463 0.1       ]\n"
     ]
    },
    {
     "name": "stderr",
     "output_type": "stream",
     "text": [
      "100%|██████████| 30/30 [01:01<00:00,  2.06s/it]\n"
     ]
    }
   ],
   "source": [
    "import numpy as np\n",
    "import matplotlib.pyplot as plt\n",
    "from tqdm import tqdm\n",
    "\n",
    "# 测试 dx 收敛性 (空间步长)\n",
    "dx_values = np.logspace(-3, 0.4, 20) \n",
    "dt_fixed = 1e-3  # 固定一个较小的时间步长\n",
    "prices_dx = []\n",
    "errors_dx = []\n",
    "print(f\"dx in our test: {dx_values}\")\n",
    "\n",
    "for dx in tqdm(dx_values):\n",
    "    price = crank_nicolson_TF_dxdt(100, Year, v/100, r, d, CDS/10000, CP, Coupon, CFQ, CPT, \n",
    "                                  dx, dt_fixed, S)\n",
    "    prices_dx.append(price)\n",
    "    if prices_dx:  # 使用最后一个价格作为参考\n",
    "        errors_dx.append(abs(price - prices_dx[-1]))\n",
    "\n",
    "# 测试 dt 收敛性 (时间步长)\n",
    "dt_values = np.logspace(-4, -1, 30)  # 对数范围从 1e-5 到 1e-3\n",
    "dx_fixed = 0.05  # 固定一个较小的空间步长S\n",
    "prices_dt = []\n",
    "errors_dt = []\n",
    "print(f\"dt in our test: {dt_values}\")\n",
    "\n",
    "for dt in tqdm(dt_values):\n",
    "    price = crank_nicolson_TF_dxdt(100, Year, v/100, r, d, CDS/10000, CP, Coupon, CFQ, CPT, \n",
    "                                  dx_fixed, dt, S)\n",
    "    prices_dt.append(price)\n",
    "    if prices_dt:  # 使用最后一个价格作为参考\n",
    "        errors_dt.append(abs(price - prices_dt[-1]))"
   ]
  },
  {
   "cell_type": "code",
   "execution_count": 5,
   "id": "7817f0a3-204d-45a7-82f8-92b28d9285e9",
   "metadata": {},
   "outputs": [
    {
     "data": {
      "image/png": "[encoded data removed]",
      "text/plain": [
       "<Figure size 1600x600 with 2 Axes>"
      ]
     },
     "metadata": {},
     "output_type": "display_data"
    }
   ],
   "source": [
    "import numpy as np\n",
    "import matplotlib.pyplot as plt\n",
    "from matplotlib.ticker import ScalarFormatter\n",
    "\n",
    "# 创建可视化图表\n",
    "plt.figure(figsize=(16, 6))\n",
    "\n",
    "# dx收敛图（对数坐标，反向）\n",
    "plt.subplot(1, 2, 1)\n",
    "plt.loglog(dx_values, prices_dx, 'b-o')\n",
    "plt.gca().invert_xaxis()  # 反转x轴\n",
    "plt.title('Price vs dx (dt fixed at %.0e)' % dt_fixed)\n",
    "plt.xlabel('Space Step Size (dx)')\n",
    "plt.ylabel('Model Price')\n",
    "plt.grid(True, which=\"both\", ls=\"-\", alpha=0.5)\n",
    "\n",
    "# 手动设置y轴为非科学计数法（对数坐标）\n",
    "plt.gca().yaxis.set_major_formatter(ScalarFormatter())\n",
    "plt.gca().yaxis.set_minor_formatter(ScalarFormatter())\n",
    "\n",
    "# dt收敛图（对数坐标，反向）\n",
    "plt.subplot(1, 2, 2)\n",
    "plt.loglog(dt_values, prices_dt, 'r-o')\n",
    "plt.gca().invert_xaxis()  # 反转x轴\n",
    "plt.title('Price vs dt (dx fixed at %.1f)' % dx_fixed)\n",
    "plt.xlabel('Time Step Size (dt)')\n",
    "plt.ylabel('Model Price')\n",
    "plt.grid(True, which=\"both\", ls=\"-\", alpha=0.5)\n",
    "\n",
    "# 手动设置y轴为非科学计数法（对数坐标）\n",
    "plt.gca().yaxis.set_major_formatter(ScalarFormatter())\n",
    "plt.gca().yaxis.set_minor_formatter(ScalarFormatter())\n",
    "\n",
    "plt.tight_layout()\n",
    "plt.show()"
   ]
  },
  {
   "cell_type": "markdown",
   "id": "bf22d451-b45a-47fe-8afc-56c752640da6",
   "metadata": {},
   "source": [
    "# Test convergence under CFL"
   ]
  },
  {
   "cell_type": "code",
   "execution_count": 4,
   "id": "a5fc9630-4dd6-4e20-93c6-437171a45384",
   "metadata": {},
   "outputs": [
    {
     "name": "stdout",
     "output_type": "stream",
     "text": [
      "dx in our test: [0.0031622776601683794, 0.003562247890262444, 0.004012807031942776, 0.004520353656360245, 0.0050920956367733975, 0.005736152510448681, 0.006461670787466969, 0.007278953843983154, 0.008199608244604943, 0.009236708571873866, 0.010404983103657853, 0.011721022975334805, 0.013203517797162948, 0.014873521072935119, 0.01675474918923341, 0.018873918221350976, 0.021261123338996556, 0.02395026619987486, 0.026979536400729993, 0.03039195382313198, 0.03423597957607582, 0.03856620421163472, 0.043444122987293665, 0.04893900918477494, 0.05512889788770675, 0.06210169418915616, 0.0699564215671263, 0.07880462815669913, 0.08877197088985865, 0.1]\n"
     ]
    },
    {
     "name": "stderr",
     "output_type": "stream",
     "text": [
      "100%|██████████| 30/30 [02:43<00:00,  5.45s/it]\n"
     ]
    },
    {
     "data": {
      "image/png": "[encoded data removed]",
      "text/plain": [
       "<Figure size 1600x600 with 1 Axes>"
      ]
     },
     "metadata": {},
     "output_type": "display_data"
    },
    {
     "data": {
      "image/png": "[encoded data removed]",
      "text/plain": [
       "<Figure size 1000x300 with 1 Axes>"
      ]
     },
     "metadata": {},
     "output_type": "display_data"
    },
    {
     "data": {
      "image/png": "[encoded data removed]",
      "text/plain": [
       "<Figure size 1000x300 with 1 Axes>"
      ]
     },
     "metadata": {},
     "output_type": "display_data"
    }
   ],
   "source": [
    "import numpy as np\n",
    "import matplotlib.pyplot as plt\n",
    "import time\n",
    "from tqdm import tqdm\n",
    "from matplotlib.ticker import ScalarFormatter\n",
    "\n",
    "# 生成 dx 值\n",
    "dx_values = list(np.logspace(-2.5, -1, 30))# + list(np.logspace(-1, 0.4, 20))\n",
    "prices = []\n",
    "errors = []\n",
    "times = []  # 记录计算时间\n",
    "relative_changes = []  # 记录相对差异\n",
    "\n",
    "print(f\"dx in our test: {dx_values}\")\n",
    "\n",
    "for dx in tqdm(dx_values):\n",
    "    start_time = time.time()  # 计时开始\n",
    "    \n",
    "    dt = 2 * dx**2 / (v / 100)**2  # CFL\n",
    "    price = crank_nicolson_TF_dxdt(100, Year, v/100, r, d, CDS/10000, CP, Coupon, CFQ, CPT, \n",
    "                                   dx, dt, S)\n",
    "    prices.append(price)\n",
    "    \n",
    "    end_time = time.time()  # 计时结束\n",
    "    times.append(end_time - start_time)  # 记录计算时间\n",
    "\n",
    "# 计算相对变化\n",
    "for i in range(len(prices)):\n",
    "    if i <= len(prices) - 4:  # 确保 i+1, i+2, i+3 存在\n",
    "        diff1 = abs(prices[i] - prices[i+1]) / prices[i+1]\n",
    "        diff2 = abs(prices[i] - prices[i+2]) / prices[i+2]\n",
    "        diff3 = abs(prices[i] - prices[i+3]) / prices[i+3]\n",
    "        avg_relative_change = (diff1 + diff2 + diff3) / 3\n",
    "    else:\n",
    "        avg_relative_change = np.nan  # 后面不足三个点，设为 NaN\n",
    "\n",
    "    relative_changes.append(avg_relative_change)\n",
    "\n",
    "# 创建可视化图表\n",
    "plt.figure(figsize=(10, 3))\n",
    "# dx收敛图（对数坐标，反向）\n",
    "plt.loglog(dx_values, prices, 'b-o')\n",
    "plt.gca().invert_xaxis()  # 反转x轴\n",
    "plt.title('Price vs dx (dt calculated by CFL)')\n",
    "plt.xlabel('Space Step Size (dx)')\n",
    "plt.ylabel('Model Price')\n",
    "plt.grid(True, which=\"both\", ls=\"-\", alpha=0.5)\n",
    "# 手动设置y轴为非科学计数法（对数坐标）\n",
    "plt.gca().yaxis.set_major_formatter(ScalarFormatter())\n",
    "plt.gca().yaxis.set_minor_formatter(ScalarFormatter())\n",
    "plt.show()\n",
    "\n",
    "# 可视化计算时间\n",
    "plt.figure(figsize=(10, 3))\n",
    "plt.plot(dx_values, times, 'ro-', label=\"Computation Time per Iteration\")\n",
    "plt.gca().invert_xaxis()  # 反转x轴\n",
    "plt.xscale(\"log\")\n",
    "plt.xlabel(\"Space Step Size (dx)\")\n",
    "plt.ylabel(\"Time (seconds)\")\n",
    "plt.title(\"Computation Time vs dx\")\n",
    "plt.legend()\n",
    "plt.grid()\n",
    "plt.show()\n",
    "\n",
    "# 可视化相对变化\n",
    "plt.figure(figsize=(10, 3))\n",
    "plt.plot(dx_values, relative_changes, 'bo-', label=\"Convergence Coeficient (Average Change to past 3 values)\")\n",
    "plt.xscale(\"log\")\n",
    "plt.yscale(\"log\")\n",
    "plt.gca().invert_xaxis()  # 反转x轴\n",
    "plt.xlabel(\"Space Step Size (dx)\")\n",
    "plt.ylabel(\"Average Relative Change\")\n",
    "plt.title(\"Convergence Analysis: Relative Change vs dx\")\n",
    "plt.legend()\n",
    "plt.grid()\n",
    "plt.show()"
   ]
  },
  {
   "cell_type": "markdown",
   "id": "8fa6f1d4-9fd6-485c-b2f6-169a1e6dc5c5",
   "metadata": {},
   "source": [
    "# Surface of dx and dt"
   ]
  },
  {
   "cell_type": "code",
   "execution_count": 3,
   "id": "7a56c5c5-31ec-46ba-bb4a-2099717967f1",
   "metadata": {},
   "outputs": [
    {
     "data": {
      "image/png": "[encoded data removed]",
      "text/plain": [
       "<Figure size 1000x700 with 1 Axes>"
      ]
     },
     "metadata": {},
     "output_type": "display_data"
    }
   ],
   "source": [
    "import numpy as np\n",
    "import matplotlib.pyplot as plt\n",
    "from mpl_toolkits.mplot3d import Axes3D\n",
    "\n",
    "dx_vals = np.logspace(-3, -1, 10)  # 从 0.01 到 1\n",
    "dt_vals = np.logspace(-3, -0.1, 10)  # 从 0.001 到 ~0.3\n",
    "\n",
    "DX, DT = np.meshgrid(dx_vals, dt_vals)\n",
    "Price = np.vectorize(crank_nicolson_TF_dxdt)(100, Year, v/100, r, d, CDS/10000, CP, Coupon, CFQ, CPT, \n",
    "                                   DX, DT, S)\n",
    "\n",
    "fig = plt.figure(figsize=(10, 7))\n",
    "ax = fig.add_subplot(111, projection='3d')\n",
    "\n",
    "log_dx = np.log10(DX)\n",
    "log_dt = np.log10(DT)\n",
    "\n",
    "# 绘图\n",
    "ax.plot_surface(log_dx, log_dt, Price, cmap='viridis', edgecolor='k', linewidth=0.3)\n",
    "\n",
    "ax.set_xlabel('log(Δx)')\n",
    "ax.set_ylabel('log(Δt)')\n",
    "ax.set_zlabel('Price')\n",
    "ax.set_title('Price vs log(Δx) and log(Δt)')\n",
    "\n",
    "plt.show()"
   ]
  },
  {
   "cell_type": "markdown",
   "id": "1c28cce5-8b9b-4195-afff-06eeb4235cc8",
   "metadata": {},
   "source": [
    "# Test on every bond (Integrated all code before)"
   ]
  },
  {
   "cell_type": "code",
   "execution_count": 2,
   "id": "93ad2e95-fbaa-494f-8357-27a0a91c3b42",
   "metadata": {},
   "outputs": [
    {
     "data": {
      "text/html": [
       "<div>\n",
       "<style scoped>\n",
       "    .dataframe tbody tr th:only-of-type {\n",
       "        vertical-align: middle;\n",
       "    }\n",
       "\n",
       "    .dataframe tbody tr th {\n",
       "        vertical-align: top;\n",
       "    }\n",
       "\n",
       "    .dataframe thead th {\n",
       "        text-align: right;\n",
       "    }\n",
       "</style>\n",
       "<table border=\"1\" class=\"dataframe\">\n",
       "  <thead>\n",
       "    <tr style=\"text-align: right;\">\n",
       "      <th></th>\n",
       "      <th>0</th>\n",
       "      <th>1</th>\n",
       "    </tr>\n",
       "  </thead>\n",
       "  <tbody>\n",
       "    <tr>\n",
       "      <th>0</th>\n",
       "      <td>TEVA 0 ¼ 02/01/26 Corp</td>\n",
       "      <td>0.0000</td>\n",
       "    </tr>\n",
       "    <tr>\n",
       "      <th>1</th>\n",
       "      <td>LBRDA 3.125 03/31/53 Corp</td>\n",
       "      <td>0.0010</td>\n",
       "    </tr>\n",
       "    <tr>\n",
       "      <th>2</th>\n",
       "      <td>CMCSA 2 10/15/29 Corp</td>\n",
       "      <td>0.0276</td>\n",
       "    </tr>\n",
       "    <tr>\n",
       "      <th>3</th>\n",
       "      <td>DISH 2 ⅜ 03/15/24 Corp</td>\n",
       "      <td>0.0000</td>\n",
       "    </tr>\n",
       "    <tr>\n",
       "      <th>4</th>\n",
       "      <td>DISH 2 ⅜ 08/15/24 Corp</td>\n",
       "      <td>0.0000</td>\n",
       "    </tr>\n",
       "    <tr>\n",
       "      <th>...</th>\n",
       "      <td>...</td>\n",
       "      <td>...</td>\n",
       "    </tr>\n",
       "    <tr>\n",
       "      <th>80</th>\n",
       "      <td>ATSG 1.125 10/15/24 Corp</td>\n",
       "      <td>0.1817</td>\n",
       "    </tr>\n",
       "    <tr>\n",
       "      <th>81</th>\n",
       "      <td>VSH 2.25 06/15/25 Corp</td>\n",
       "      <td>0.0182</td>\n",
       "    </tr>\n",
       "    <tr>\n",
       "      <th>82</th>\n",
       "      <td>AY 4 07/15/25 Corp</td>\n",
       "      <td>0.0980</td>\n",
       "    </tr>\n",
       "    <tr>\n",
       "      <th>83</th>\n",
       "      <td>LNT 3.875 03/15/26 Corp</td>\n",
       "      <td>0.0396</td>\n",
       "    </tr>\n",
       "    <tr>\n",
       "      <th>84</th>\n",
       "      <td>CNP 4.25 08/15/26 Corp</td>\n",
       "      <td>0.0287</td>\n",
       "    </tr>\n",
       "  </tbody>\n",
       "</table>\n",
       "<p>85 rows × 2 columns</p>\n",
       "</div>"
      ],
      "text/plain": [
       "                            0       1\n",
       "0      TEVA 0 ¼ 02/01/26 Corp  0.0000\n",
       "1   LBRDA 3.125 03/31/53 Corp  0.0010\n",
       "2       CMCSA 2 10/15/29 Corp  0.0276\n",
       "3      DISH 2 ⅜ 03/15/24 Corp  0.0000\n",
       "4      DISH 2 ⅜ 08/15/24 Corp  0.0000\n",
       "..                        ...     ...\n",
       "80   ATSG 1.125 10/15/24 Corp  0.1817\n",
       "81     VSH 2.25 06/15/25 Corp  0.0182\n",
       "82         AY 4 07/15/25 Corp  0.0980\n",
       "83    LNT 3.875 03/15/26 Corp  0.0396\n",
       "84     CNP 4.25 08/15/26 Corp  0.0287\n",
       "\n",
       "[85 rows x 2 columns]"
      ]
     },
     "execution_count": 2,
     "metadata": {},
     "output_type": "execute_result"
    }
   ],
   "source": [
    "import pandas as pd\n",
    "'''\n",
    "Read Data to get asset names\n",
    "'''\n",
    "file_path = \"CBdata.xlsx\"\n",
    "xls = pd.read_excel(file_path, sheet_name=None, header=None,engine='openpyxl')\n",
    "Name_df = xls[\"NaME\"]\n",
    "\n",
    "import numpy as np\n",
    "import matplotlib.pyplot as plt\n",
    "from numba import jit\n",
    "import pandas as pd\n",
    "import scipy.stats as stats\n",
    "import warnings\n",
    "import math\n",
    "import time\n",
    "import matplotlib.pyplot as plt\n",
    "from mpl_toolkits.mplot3d import Axes3D\n",
    "from numba import jit\n",
    "\n",
    "from functions import block_thomas_solve\n",
    "from functions import crank_nicolson_TF_dxdt\n",
    "\n",
    "from functions import explicit_FD\n",
    "from functions import find_between\n",
    "\n",
    "Name_df"
   ]
  },
  {
   "cell_type": "code",
   "execution_count": 9,
   "id": "13c4314a-77e0-4a91-a6d4-198d7fa71815",
   "metadata": {
    "scrolled": true
   },
   "outputs": [
    {
     "name": "stdout",
     "output_type": "stream",
     "text": [
      "dx in our test: [2.51188643150958, 2.1199020238496082, 1.789087489923219, 1.5098971606184193, 1.2742749857031335, 1.0754220761125606, 0.907600521681814, 0.7659678234751834, 0.646437163249006, 0.5455594781168519, 0.4604239376758781, 0.38857395185709753, 0.32793628590208806, 0.2767612370754227, 0.23357214690901226, 0.19712279215176962, 0.16636142493842218, 0.1404004245548316, 0.11849068510006666, 0.1, 0.1, 0.0928856699709695, 0.08627747685955867, 0.0801394124150493, 0.07443803013251689, 0.06914226300178047, 0.06422325422229357, 0.05965419996153637, 0.05541020330009492, 0.05146813856756942, 0.047806525330073804, 0.04440541134268032, 0.04124626382901352, 0.03831186849557287, 0.035586235730509654, 0.03305451347573245, 0.0307029062975785, 0.028518600215064777, 0.02648969287610527, 0.024605128701222573, 0.022854638641349907, 0.021228684221461944, 0.01971840556512642, 0.01831557311676062, 0.017012542798525893, 0.015802214357508698, 0.01467799267622069, 0.013633751835597433, 0.012663801734674034, 0.011762857085047235, 0.01092600861117378, 0.010148696299574591, 0.009426684551178854, 0.008756039101412363, 0.008133105582266927, 0.00755448960953496, 0.00701703828670383, 0.006517823024724289, 0.006054123584037268, 0.005623413251903491]\n",
      "------------------- Bond: TEVA 0 ¼ 02 01 26 Corp -------------------\n"
     ]
    },
    {
     "name": "stderr",
     "output_type": "stream",
     "text": [
      " 77%|███████▋  | 46/60 [00:21<00:06,  2.17it/s] \n",
      "/tmp/ipykernel_2175/1074203131.py:69: RuntimeWarning: divide by zero encountered in scalar divide\n",
      "  r=((Year-rlow)*Price_df.iloc[j,int(rlist.index(rlow))+5]/(rhigh-rlow)+(rhigh-Year)*Price_df.iloc[j,int(rlist.index(rhigh))+5]/(rhigh-rlow))/100\n",
      "/tmp/ipykernel_2175/1074203131.py:69: RuntimeWarning: invalid value encountered in scalar add\n",
      "  r=((Year-rlow)*Price_df.iloc[j,int(rlist.index(rlow))+5]/(rhigh-rlow)+(rhigh-Year)*Price_df.iloc[j,int(rlist.index(rhigh))+5]/(rhigh-rlow))/100\n"
     ]
    },
    {
     "name": "stdout",
     "output_type": "stream",
     "text": [
      "Convergence point found!\n",
      "dt:0.0017736599674587166, dx:0.01467799267622069\n",
      "time:4.278296709060669\n",
      "convergence_coefficient:0.0009959478755956898\n",
      "dt:0.0017736599674587166, dx:0.01467799267622069\n",
      "time:4.278296709060669\n",
      "Convergence point found!\n",
      "------------------- Bond: TEVA 0 ¼ 02 01 26 Corp -------------------\n"
     ]
    },
    {
     "name": "stderr",
     "output_type": "stream",
     "text": [
      "  0%|          | 0/60 [00:00<?, ?it/s]\n"
     ]
    },
    {
     "name": "stdout",
     "output_type": "stream",
     "text": [
      "Error occured\n",
      "------------------- Bond: LBRDA 3.125 03 31 53 Corp -------------------\n"
     ]
    },
    {
     "name": "stderr",
     "output_type": "stream",
     "text": [
      " 67%|██████▋   | 40/60 [00:01<00:00, 25.48it/s] \n"
     ]
    },
    {
     "name": "stdout",
     "output_type": "stream",
     "text": [
      "Convergence point found!\n",
      "dt:0.027836609800538266, dx:0.022854638641349907\n",
      "time:0.3064920902252197\n",
      "convergence_coefficient:7.868593615694665e-05\n",
      "dt:0.027836609800538266, dx:0.022854638641349907\n",
      "time:0.3064920902252197\n",
      "Convergence point found!\n",
      "------------------- Bond: CMCSA 2 10 15 29 Corp -------------------\n"
     ]
    },
    {
     "name": "stderr",
     "output_type": "stream",
     "text": [
      " 18%|█▊        | 11/60 [00:00<00:00, 26684.41it/s]\n"
     ]
    },
    {
     "name": "stdout",
     "output_type": "stream",
     "text": [
      "Convergence point found!\n",
      "dt:3.2920598099174985, dx:0.38857395185709753\n",
      "time:4.4345855712890625e-05\n",
      "convergence_coefficient:0.00046600921671650415\n",
      "dt:3.2920598099174985, dx:0.38857395185709753\n",
      "time:4.4345855712890625e-05\n",
      "Convergence point found!\n",
      "------------------- Bond: DISH 2 ⅜ 03 15 24 Corp -------------------\n"
     ]
    },
    {
     "name": "stderr",
     "output_type": "stream",
     "text": [
      " 47%|████▋     | 28/60 [00:00<00:00, 141.55it/s]\n"
     ]
    },
    {
     "name": "stdout",
     "output_type": "stream",
     "text": [
      "Convergence point found!\n",
      "dt:0.06694217759077227, dx:0.05541020330009492\n",
      "time:0.026829242706298828\n",
      "convergence_coefficient:0.0008352200657294848\n",
      "dt:0.06694217759077227, dx:0.05541020330009492\n",
      "time:0.026829242706298828\n",
      "Convergence point found!\n",
      "------------------- Bond: DISH 2 ⅜ 08 15 24 Corp -------------------\n"
     ]
    },
    {
     "name": "stderr",
     "output_type": "stream",
     "text": [
      " 58%|█████▊    | 35/60 [00:00<00:00, 73.23it/s] \n"
     ]
    },
    {
     "name": "stdout",
     "output_type": "stream",
     "text": [
      "Convergence point found!\n",
      "dt:0.025410286907147937, dx:0.03305451347573245\n",
      "time:0.09707403182983398\n",
      "convergence_coefficient:0.0006864427186514892\n",
      "dt:0.025410286907147937, dx:0.03305451347573245\n",
      "time:0.09707403182983398\n",
      "Convergence point found!\n",
      "------------------- Bond: SRENVX 3 ¼ 06 13 24 Corp -------------------\n"
     ]
    },
    {
     "name": "stderr",
     "output_type": "stream",
     "text": [
      " 53%|█████▎    | 32/60 [00:00<00:00, 329.40it/s]\n",
      "/tmp/ipykernel_2175/1074203131.py:69: RuntimeWarning: invalid value encountered in scalar divide\n",
      "  r=((Year-rlow)*Price_df.iloc[j,int(rlist.index(rlow))+5]/(rhigh-rlow)+(rhigh-Year)*Price_df.iloc[j,int(rlist.index(rhigh))+5]/(rhigh-rlow))/100\n"
     ]
    },
    {
     "name": "stdout",
     "output_type": "stream",
     "text": [
      "Convergence point found!\n",
      "dt:0.06830579423013894, dx:0.04124626382901352\n",
      "time:0.012936830520629883\n",
      "convergence_coefficient:0.000635702343301305\n",
      "dt:0.06830579423013894, dx:0.04124626382901352\n",
      "time:0.012936830520629883\n",
      "Convergence point found!\n",
      "------------------- Bond: FE 4 05 01 26 Corp -------------------\n"
     ]
    },
    {
     "name": "stderr",
     "output_type": "stream",
     "text": [
      "  0%|          | 0/60 [00:00<?, ?it/s]\n"
     ]
    },
    {
     "name": "stdout",
     "output_type": "stream",
     "text": [
      "Error occured\n",
      "------------------- Bond: JPM 0 ½ 06 15 27 Corp -------------------\n"
     ]
    },
    {
     "name": "stderr",
     "output_type": "stream",
     "text": [
      " 57%|█████▋    | 34/60 [00:00<00:00, 327.66it/s]\n"
     ]
    },
    {
     "name": "stdout",
     "output_type": "stream",
     "text": [
      "Convergence point found!\n",
      "dt:0.09300926153493615, dx:0.035586235730509654\n",
      "time:0.05431962013244629\n",
      "convergence_coefficient:0.0007725657020334099\n",
      "dt:0.09300926153493615, dx:0.035586235730509654\n",
      "time:0.05431962013244629\n",
      "Convergence point found!\n",
      "------------------- Bond: MS 2 ½ 11 06 26 Corp -------------------\n"
     ]
    },
    {
     "name": "stderr",
     "output_type": "stream",
     "text": [
      "  0%|          | 0/60 [00:00<?, ?it/s]\n"
     ]
    },
    {
     "name": "stdout",
     "output_type": "stream",
     "text": [
      "Error occured\n",
      "------------------- Bond: NCLH 5 ⅜ 08 01 25 Corp -------------------\n"
     ]
    },
    {
     "name": "stderr",
     "output_type": "stream",
     "text": [
      "  0%|          | 0/60 [00:00<?, ?it/s]\n"
     ]
    },
    {
     "name": "stdout",
     "output_type": "stream",
     "text": [
      "Error occured\n",
      "------------------- Bond: NCLH 6 05 15 24 Corp -------------------\n"
     ]
    },
    {
     "name": "stderr",
     "output_type": "stream",
     "text": [
      "  0%|          | 0/60 [00:00<?, ?it/s]\n"
     ]
    },
    {
     "name": "stdout",
     "output_type": "stream",
     "text": [
      "Error occured\n",
      "------------------- Bond: PCG 4.25 12 01 27 Corp -------------------\n"
     ]
    },
    {
     "name": "stderr",
     "output_type": "stream",
     "text": [
      " 28%|██▊       | 17/60 [00:00<00:00, 2120.79it/s]\n"
     ]
    },
    {
     "name": "stdout",
     "output_type": "stream",
     "text": [
      "Convergence point found!\n",
      "dt:0.08180410502823661, dx:0.1404004245548316\n",
      "time:0.0032401084899902344\n",
      "convergence_coefficient:0.0008569245474703917\n",
      "dt:0.08180410502823661, dx:0.1404004245548316\n",
      "time:0.0032401084899902344\n",
      "Convergence point found!\n",
      "------------------- Bond: RCL 6 08 15 25 Corp -------------------\n"
     ]
    },
    {
     "name": "stderr",
     "output_type": "stream",
     "text": [
      "  0%|          | 0/60 [00:00<?, ?it/s]\n"
     ]
    },
    {
     "name": "stdout",
     "output_type": "stream",
     "text": [
      "Error occured\n",
      "------------------- Bond: SABHLD 4 04 15 25 Corp -------------------\n"
     ]
    },
    {
     "name": "stderr",
     "output_type": "stream",
     "text": [
      " 33%|███▎      | 20/60 [00:00<00:00, 251.00it/s]\n"
     ]
    },
    {
     "name": "stdout",
     "output_type": "stream",
     "text": [
      "Convergence point found!\n",
      "dt:0.04710595821272698, dx:0.1\n",
      "time:0.01227569580078125\n",
      "convergence_coefficient:2.825945364132652e-05\n",
      "dt:0.04710595821272698, dx:0.1\n",
      "time:0.01227569580078125\n",
      "Convergence point found!\n",
      "------------------- Bond: LUV 1 ¼ 05 01 25 Corp -------------------\n"
     ]
    },
    {
     "name": "stderr",
     "output_type": "stream",
     "text": [
      "  0%|          | 0/60 [00:00<?, ?it/s]\n"
     ]
    },
    {
     "name": "stdout",
     "output_type": "stream",
     "text": [
      "Error occured\n",
      "------------------- Bond: TSLA 2 05 15 24 Corp -------------------\n"
     ]
    },
    {
     "name": "stderr",
     "output_type": "stream",
     "text": [
      "  0%|          | 0/60 [00:00<?, ?it/s]\n"
     ]
    },
    {
     "name": "stdout",
     "output_type": "stream",
     "text": [
      "Error occured\n",
      "------------------- Bond: RIG 4 12 15 25 Corp -------------------\n"
     ]
    },
    {
     "name": "stderr",
     "output_type": "stream",
     "text": [
      " 22%|██▏       | 13/60 [00:00<00:00, 31942.56it/s]"
     ]
    },
    {
     "name": "stdout",
     "output_type": "stream",
     "text": [
      "Convergence point found!\n",
      "dt:2.249482657675977, dx:0.2767612370754227\n",
      "time:4.482269287109375e-05\n",
      "convergence_coefficient:0.0008233861752570848\n",
      "dt:2.249482657675977, dx:0.2767612370754227\n",
      "time:4.482269287109375e-05\n",
      "Convergence point found!\n",
      "------------------- Bond: VTR 3 ¾ 06 01 26 Corp -------------------\n"
     ]
    },
    {
     "name": "stderr",
     "output_type": "stream",
     "text": [
      "\n",
      " 40%|████      | 24/60 [00:00<00:00, 1622.29it/s]\n"
     ]
    },
    {
     "name": "stdout",
     "output_type": "stream",
     "text": [
      "Convergence point found!\n",
      "dt:0.25217648314070656, dx:0.07443803013251689\n",
      "time:0.0034215450286865234\n",
      "convergence_coefficient:0.0004736959478313351\n",
      "dt:0.25217648314070656, dx:0.07443803013251689\n",
      "time:0.0034215450286865234\n",
      "Convergence point found!\n",
      "------------------- Bond: WFC 0 ¼ 11 01 24 Corp -------------------\n"
     ]
    },
    {
     "name": "stderr",
     "output_type": "stream",
     "text": [
      " 63%|██████▎   | 38/60 [00:00<00:00, 263.11it/s]\n"
     ]
    },
    {
     "name": "stdout",
     "output_type": "stream",
     "text": [
      "Convergence point found!\n",
      "dt:0.057719015347753914, dx:0.02648969287610527\n",
      "time:0.04898691177368164\n",
      "convergence_coefficient:0.0006029143869508639\n",
      "dt:0.057719015347753914, dx:0.02648969287610527\n",
      "time:0.04898691177368164\n",
      "Convergence point found!\n",
      "------------------- Bond: SO 3.875 12 15 25 Corp -------------------\n"
     ]
    },
    {
     "name": "stderr",
     "output_type": "stream",
     "text": [
      " 50%|█████     | 30/60 [00:00<00:00, 293.86it/s]\n"
     ]
    },
    {
     "name": "stdout",
     "output_type": "stream",
     "text": [
      "Convergence point found!\n",
      "dt:0.05900778077092611, dx:0.047806525330073804\n",
      "time:0.014987945556640625\n",
      "convergence_coefficient:0.00037930565374444717\n",
      "dt:0.05900778077092611, dx:0.047806525330073804\n",
      "time:0.014987945556640625\n",
      "Convergence point found!\n",
      "------------------- Bond: NEE 3 03 01 27 Corp -------------------\n"
     ]
    },
    {
     "name": "stderr",
     "output_type": "stream",
     "text": [
      " 47%|████▋     | 28/60 [00:00<00:00, 138.86it/s]\n"
     ]
    },
    {
     "name": "stdout",
     "output_type": "stream",
     "text": [
      "Convergence point found!\n",
      "dt:0.06694217759077227, dx:0.05541020330009492\n",
      "time:0.02718830108642578\n",
      "convergence_coefficient:0.0003877600391209616\n",
      "dt:0.06694217759077227, dx:0.05541020330009492\n",
      "time:0.02718830108642578\n",
      "Convergence point found!\n",
      "------------------- Bond: DISH 3.375 08 15 26 Corp -------------------\n"
     ]
    },
    {
     "name": "stderr",
     "output_type": "stream",
     "text": [
      "  5%|▌         | 3/60 [00:00<00:00, 14961.85it/s]\n"
     ]
    },
    {
     "name": "stdout",
     "output_type": "stream",
     "text": [
      "Convergence point found!\n",
      "dt:134.05420410554018, dx:1.5098971606184193\n",
      "time:1.239776611328125e-05\n",
      "convergence_coefficient:0.0\n",
      "dt:134.05420410554018, dx:1.5098971606184193\n",
      "time:1.239776611328125e-05\n",
      "Convergence point found!\n",
      "------------------- Bond: BACR 1 02 16 29 Corp -------------------\n",
      "23\n",
      "Error occured\n",
      "------------------- Bond: CDMO 7 03 01 29 Corp -------------------\n"
     ]
    },
    {
     "name": "stderr",
     "output_type": "stream",
     "text": [
      " 33%|███▎      | 20/60 [00:00<00:00, 409.27it/s]\n"
     ]
    },
    {
     "name": "stdout",
     "output_type": "stream",
     "text": [
      "Convergence point found!\n",
      "dt:0.04710595821272698, dx:0.1\n",
      "time:0.012709379196166992\n",
      "convergence_coefficient:2.825945364132652e-05\n",
      "dt:0.04710595821272698, dx:0.1\n",
      "time:0.012709379196166992\n",
      "Convergence point found!\n",
      "------------------- Bond: LUV 1.25 05 01 25 Corp -------------------\n"
     ]
    },
    {
     "name": "stderr",
     "output_type": "stream",
     "text": [
      " 28%|██▊       | 17/60 [00:00<00:00, 2343.34it/s]"
     ]
    },
    {
     "name": "stdout",
     "output_type": "stream",
     "text": [
      "Convergence point found!\n",
      "dt:0.8522733284439281, dx:0.1404004245548316\n",
      "time:0.0029714107513427734\n",
      "convergence_coefficient:0.0005961784107937723\n",
      "dt:0.8522733284439281, dx:0.1404004245548316\n",
      "time:0.0029714107513427734\n",
      "Convergence point found!\n",
      "------------------- Bond: NRG 2.75 06 01 48 Corp -------------------\n"
     ]
    },
    {
     "name": "stderr",
     "output_type": "stream",
     "text": [
      "\n",
      " 35%|███▌      | 21/60 [00:00<00:00, 2026.05it/s]"
     ]
    },
    {
     "name": "stdout",
     "output_type": "stream",
     "text": [
      "Convergence point found!\n",
      "dt:0.2006529116574328, dx:0.0928856699709695\n",
      "time:0.002578258514404297\n",
      "convergence_coefficient:0.00039636373595833654\n",
      "dt:0.2006529116574328, dx:0.0928856699709695\n",
      "time:0.002578258514404297\n",
      "Convergence point found!\n"
     ]
    },
    {
     "name": "stderr",
     "output_type": "stream",
     "text": [
      "\n"
     ]
    },
    {
     "name": "stdout",
     "output_type": "stream",
     "text": [
      "------------------- Bond: SRENVX 3.25 06 13 24 Corp -------------------\n"
     ]
    },
    {
     "name": "stderr",
     "output_type": "stream",
     "text": [
      " 28%|██▊       | 17/60 [00:00<00:00, 335.32it/s]\n"
     ]
    },
    {
     "name": "stdout",
     "output_type": "stream",
     "text": [
      "Convergence point found!\n",
      "dt:0.09449541101736651, dx:0.1404004245548316\n",
      "time:0.0057637691497802734\n",
      "convergence_coefficient:0.0002777777777777427\n",
      "dt:0.09449541101736651, dx:0.1404004245548316\n",
      "time:0.0057637691497802734\n",
      "Convergence point found!\n",
      "------------------- Bond: LI 0.25 05 01 28 Corp -------------------\n",
      "28\n",
      "Error occured\n",
      "------------------- Bond: SABHLD 7.32 08 01 26 Corp -------------------\n"
     ]
    },
    {
     "name": "stderr",
     "output_type": "stream",
     "text": [
      "  0%|          | 0/60 [00:00<?, ?it/s]\n"
     ]
    },
    {
     "name": "stdout",
     "output_type": "stream",
     "text": [
      "Error occured\n",
      "------------------- Bond: MDRX 0.875 01 01 27 Corp -------------------\n"
     ]
    },
    {
     "name": "stderr",
     "output_type": "stream",
     "text": [
      " 60%|██████    | 36/60 [00:06<00:04,  5.95it/s] \n"
     ]
    },
    {
     "name": "stdout",
     "output_type": "stream",
     "text": [
      "Convergence point found!\n",
      "dt:0.0033710725887630306, dx:0.0307029062975785\n",
      "time:1.3640027046203613\n",
      "convergence_coefficient:0.0007384226223823196\n",
      "dt:0.0033710725887630306, dx:0.0307029062975785\n",
      "time:1.3640027046203613\n",
      "Convergence point found!\n",
      "------------------- Bond: IHFLIN 4.5 09 28 26 Corp -------------------\n"
     ]
    },
    {
     "name": "stderr",
     "output_type": "stream",
     "text": [
      "  0%|          | 0/60 [00:00<?, ?it/s]\n"
     ]
    },
    {
     "name": "stdout",
     "output_type": "stream",
     "text": [
      "Error occured\n",
      "------------------- Bond: PRCH 6.75 10 01 28 Corp -------------------\n"
     ]
    },
    {
     "name": "stderr",
     "output_type": "stream",
     "text": [
      "  5%|▌         | 3/60 [00:00<00:00, 19878.22it/s]\n"
     ]
    },
    {
     "name": "stdout",
     "output_type": "stream",
     "text": [
      "Convergence point found!\n",
      "dt:13.08352367532232, dx:1.5098971606184193\n",
      "time:1.5020370483398438e-05\n",
      "convergence_coefficient:0.0\n",
      "dt:13.08352367532232, dx:1.5098971606184193\n",
      "time:1.5020370483398438e-05\n",
      "Convergence point found!\n",
      "------------------- Bond: BKNG 0.75 05 01 25 Corp -------------------\n"
     ]
    },
    {
     "name": "stderr",
     "output_type": "stream",
     "text": [
      "  0%|          | 0/60 [00:00<?, ?it/s]\n"
     ]
    },
    {
     "name": "stdout",
     "output_type": "stream",
     "text": [
      "Error occured\n",
      "------------------- Bond: ABR 7.5 08 01 25 Corp -------------------\n"
     ]
    },
    {
     "name": "stderr",
     "output_type": "stream",
     "text": [
      " 53%|█████▎    | 32/60 [00:00<00:00, 67.90it/s] \n"
     ]
    },
    {
     "name": "stdout",
     "output_type": "stream",
     "text": [
      "Convergence point found!\n",
      "dt:0.02346935491053934, dx:0.04124626382901352\n",
      "time:0.09053301811218262\n",
      "convergence_coefficient:0.0005569711503145272\n",
      "dt:0.02346935491053934, dx:0.04124626382901352\n",
      "time:0.09053301811218262\n",
      "Convergence point found!\n",
      "------------------- Bond: ZTO 1.5 09 01 27 Corp -------------------\n"
     ]
    },
    {
     "name": "stderr",
     "output_type": "stream",
     "text": [
      " 97%|█████████▋| 58/60 [06:33<00:13,  6.79s/it]"
     ]
    },
    {
     "name": "stdout",
     "output_type": "stream",
     "text": [
      "Convergence point found!\n",
      "dt:0.00033395601333056435, dx:0.006054123584037268\n",
      "time:77.80968880653381\n",
      "convergence_coefficient:0.0007989230952907935\n",
      "dt:0.00033395601333056435, dx:0.006054123584037268\n",
      "time:77.80968880653381\n",
      "Convergence point found!\n",
      "------------------- Bond: AYX 1 08 01 26 Corp -------------------\n"
     ]
    },
    {
     "name": "stderr",
     "output_type": "stream",
     "text": [
      "\n",
      "  0%|          | 0/60 [00:00<?, ?it/s]"
     ]
    },
    {
     "name": "stdout",
     "output_type": "stream",
     "text": [
      "Error occured\n",
      "------------------- Bond: IRWD 0.75 06 15 24 Corp -------------------\n"
     ]
    },
    {
     "name": "stderr",
     "output_type": "stream",
     "text": [
      "\n",
      " 63%|██████▎   | 38/60 [00:02<00:01, 14.59it/s] \n"
     ]
    },
    {
     "name": "stdout",
     "output_type": "stream",
     "text": [
      "Convergence point found!\n",
      "dt:0.006584265932736647, dx:0.02648969287610527\n",
      "time:0.5186567306518555\n",
      "convergence_coefficient:0.0006090217727756943\n",
      "dt:0.006584265932736647, dx:0.02648969287610527\n",
      "time:0.5186567306518555\n",
      "Convergence point found!\n",
      "------------------- Bond: TWO 6.25 01 15 26 Corp -------------------\n"
     ]
    },
    {
     "name": "stderr",
     "output_type": "stream",
     "text": [
      "  0%|          | 0/60 [00:00<?, ?it/s]\n",
      "/tmp/ipykernel_2175/1074203131.py:69: RuntimeWarning: divide by zero encountered in scalar divide\n",
      "  r=((Year-rlow)*Price_df.iloc[j,int(rlist.index(rlow))+5]/(rhigh-rlow)+(rhigh-Year)*Price_df.iloc[j,int(rlist.index(rhigh))+5]/(rhigh-rlow))/100\n",
      "/tmp/ipykernel_2175/1074203131.py:69: RuntimeWarning: invalid value encountered in scalar add\n",
      "  r=((Year-rlow)*Price_df.iloc[j,int(rlist.index(rlow))+5]/(rhigh-rlow)+(rhigh-Year)*Price_df.iloc[j,int(rlist.index(rhigh))+5]/(rhigh-rlow))/100\n"
     ]
    },
    {
     "name": "stdout",
     "output_type": "stream",
     "text": [
      "Error occured\n",
      "------------------- Bond: IQ 4 12 15 26 Corp -------------------\n"
     ]
    },
    {
     "name": "stderr",
     "output_type": "stream",
     "text": [
      "  0%|          | 0/60 [00:00<?, ?it/s]\n"
     ]
    },
    {
     "name": "stdout",
     "output_type": "stream",
     "text": [
      "Error occured\n",
      "------------------- Bond: LMCA 2.75 12 01 49 Corp -------------------\n"
     ]
    },
    {
     "name": "stderr",
     "output_type": "stream",
     "text": [
      "  0%|          | 0/60 [00:00<?, ?it/s]\n"
     ]
    },
    {
     "name": "stdout",
     "output_type": "stream",
     "text": [
      "Error occured\n",
      "------------------- Bond: IRWD 1.5 06 15 26 Corp -------------------\n"
     ]
    },
    {
     "name": "stderr",
     "output_type": "stream",
     "text": [
      " 83%|████████▎ | 50/60 [00:09<00:01,  5.43it/s] \n"
     ]
    },
    {
     "name": "stdout",
     "output_type": "stream",
     "text": [
      "Convergence point found!\n",
      "dt:0.0056472792055385634, dx:0.01092600861117378\n",
      "time:1.8028149604797363\n",
      "convergence_coefficient:0.0003623084022577705\n",
      "dt:0.0056472792055385634, dx:0.01092600861117378\n",
      "time:1.8028149604797363\n",
      "Convergence point found!\n",
      "------------------- Bond: AKAM 0.125 05 01 25 Corp -------------------\n"
     ]
    },
    {
     "name": "stderr",
     "output_type": "stream",
     "text": [
      " 83%|████████▎ | 50/60 [00:04<00:00, 10.44it/s] \n"
     ]
    },
    {
     "name": "stdout",
     "output_type": "stream",
     "text": [
      "Convergence point found!\n",
      "dt:0.006266686145224358, dx:0.01092600861117378\n",
      "time:0.9391453266143799\n",
      "convergence_coefficient:0.00027703302035067063\n",
      "dt:0.006266686145224358, dx:0.01092600861117378\n",
      "time:0.9391453266143799\n",
      "Convergence point found!\n",
      "------------------- Bond: DUK 4.125 04 15 26 Corp -------------------\n"
     ]
    },
    {
     "name": "stderr",
     "output_type": "stream",
     "text": [
      " 53%|█████▎    | 32/60 [00:01<00:01, 18.98it/s] \n"
     ]
    },
    {
     "name": "stdout",
     "output_type": "stream",
     "text": [
      "Convergence point found!\n",
      "dt:0.012301550475875413, dx:0.04124626382901352\n",
      "time:0.3268108367919922\n",
      "convergence_coefficient:0.0009647127403037156\n",
      "dt:0.012301550475875413, dx:0.04124626382901352\n",
      "time:0.3268108367919922\n",
      "Convergence point found!\n",
      "------------------- Bond: EXAS 0.375 03 01 28 Corp -------------------\n"
     ]
    },
    {
     "name": "stderr",
     "output_type": "stream",
     "text": [
      " 57%|█████▋    | 34/60 [00:00<00:00, 119.34it/s]\n"
     ]
    },
    {
     "name": "stdout",
     "output_type": "stream",
     "text": [
      "Convergence point found!\n",
      "dt:0.040676641152165155, dx:0.035586235730509654\n",
      "time:0.03572273254394531\n",
      "convergence_coefficient:0.0008979227027384102\n",
      "dt:0.040676641152165155, dx:0.035586235730509654\n",
      "time:0.03572273254394531\n",
      "Convergence point found!\n",
      "------------------- Bond: EVRG 4.5 12 15 27 Corp -------------------\n"
     ]
    },
    {
     "name": "stderr",
     "output_type": "stream",
     "text": [
      "  0%|          | 0/60 [00:00<?, ?it/s]\n"
     ]
    },
    {
     "name": "stdout",
     "output_type": "stream",
     "text": [
      "Error occured\n",
      "------------------- Bond: CNK 4.5 08 15 25 Corp -------------------\n"
     ]
    },
    {
     "name": "stderr",
     "output_type": "stream",
     "text": [
      " 83%|████████▎ | 50/60 [03:45<00:45,  4.51s/it] \n"
     ]
    },
    {
     "name": "stdout",
     "output_type": "stream",
     "text": [
      "Convergence point found!\n",
      "dt:0.00026600005580833724, dx:0.01092600861117378\n",
      "time:46.4014151096344\n",
      "convergence_coefficient:0.00038831815858480183\n",
      "dt:0.00026600005580833724, dx:0.01092600861117378\n",
      "time:46.4014151096344\n",
      "Convergence point found!\n",
      "------------------- Bond: BBIO 2.5 03 15 27 Corp -------------------\n"
     ]
    },
    {
     "name": "stderr",
     "output_type": "stream",
     "text": [
      " 62%|██████▏   | 37/60 [00:02<00:01, 13.64it/s] \n"
     ]
    },
    {
     "name": "stdout",
     "output_type": "stream",
     "text": [
      "Convergence point found!\n",
      "dt:0.007410424964045595, dx:0.028518600215064777\n",
      "time:0.5236184597015381\n",
      "convergence_coefficient:0.00026496517489273455\n",
      "dt:0.007410424964045595, dx:0.028518600215064777\n",
      "time:0.5236184597015381\n",
      "Convergence point found!\n",
      "------------------- Bond: AYX 0.5 08 01 24 Corp -------------------\n"
     ]
    },
    {
     "name": "stderr",
     "output_type": "stream",
     "text": [
      " 87%|████████▋ | 52/60 [00:07<00:01,  6.60it/s] \n"
     ]
    },
    {
     "name": "stdout",
     "output_type": "stream",
     "text": [
      "Convergence point found!\n",
      "dt:0.004939280045388555, dx:0.009426684551178854\n",
      "time:1.582947015762329\n",
      "convergence_coefficient:0.0008142699937953108\n",
      "dt:0.004939280045388555, dx:0.009426684551178854\n",
      "time:1.582947015762329\n",
      "Convergence point found!\n",
      "------------------- Bond: AWK 3.625 06 15 26 Corp -------------------\n"
     ]
    },
    {
     "name": "stderr",
     "output_type": "stream",
     "text": [
      "  0%|          | 0/60 [00:00<?, ?it/s]\n"
     ]
    },
    {
     "name": "stdout",
     "output_type": "stream",
     "text": [
      "Error occured\n",
      "------------------- Bond: STWD 6.75 07 15 27 Corp -------------------\n"
     ]
    },
    {
     "name": "stderr",
     "output_type": "stream",
     "text": [
      " 47%|████▋     | 28/60 [00:00<00:00, 59.60it/s] \n"
     ]
    },
    {
     "name": "stdout",
     "output_type": "stream",
     "text": [
      "Convergence point found!\n",
      "dt:0.0212089423389943, dx:0.05541020330009492\n",
      "time:0.09906578063964844\n",
      "convergence_coefficient:0.00038330567971484546\n",
      "dt:0.0212089423389943, dx:0.05541020330009492\n",
      "time:0.09906578063964844\n",
      "Convergence point found!\n",
      "------------------- Bond: HTHT 3 05 01 26 Corp -------------------\n"
     ]
    },
    {
     "name": "stderr",
     "output_type": "stream",
     "text": [
      "  0%|          | 0/60 [00:00<?, ?it/s]\n"
     ]
    },
    {
     "name": "stdout",
     "output_type": "stream",
     "text": [
      "Error occured\n",
      "------------------- Bond: WB 1.375 12 01 30 Corp -------------------\n"
     ]
    },
    {
     "name": "stderr",
     "output_type": "stream",
     "text": [
      " 83%|████████▎ | 50/60 [01:03<00:12,  1.28s/it] \n"
     ]
    },
    {
     "name": "stdout",
     "output_type": "stream",
     "text": [
      "Convergence point found!\n",
      "dt:0.0008475140035196253, dx:0.01092600861117378\n",
      "time:12.746683359146118\n",
      "convergence_coefficient:0.000990006813236916\n",
      "dt:0.0008475140035196253, dx:0.01092600861117378\n",
      "time:12.746683359146118\n",
      "Convergence point found!\n",
      "------------------- Bond: JPM 0.5 06 15 27 Corp -------------------\n"
     ]
    },
    {
     "name": "stderr",
     "output_type": "stream",
     "text": [
      " 60%|██████    | 36/60 [00:00<00:00, 59.34it/s] \n"
     ]
    },
    {
     "name": "stdout",
     "output_type": "stream",
     "text": [
      "Convergence point found!\n",
      "dt:0.044593869391338276, dx:0.0307029062975785\n",
      "time:0.14875221252441406\n",
      "convergence_coefficient:0.0005876261278462381\n",
      "dt:0.044593869391338276, dx:0.0307029062975785\n",
      "time:0.14875221252441406\n",
      "Convergence point found!\n",
      "------------------- Bond: AKAM 0.375 09 01 27 Corp -------------------\n"
     ]
    },
    {
     "name": "stderr",
     "output_type": "stream",
     "text": [
      " 45%|████▌     | 27/60 [00:00<00:00, 237.25it/s]\n"
     ]
    },
    {
     "name": "stdout",
     "output_type": "stream",
     "text": [
      "Convergence point found!\n",
      "dt:0.06612420702062095, dx:0.05965419996153637\n",
      "time:0.016649246215820312\n",
      "convergence_coefficient:0.0006987822135428496\n",
      "dt:0.06612420702062095, dx:0.05965419996153637\n",
      "time:0.016649246215820312\n",
      "Convergence point found!\n",
      "------------------- Bond: BMRN 0.599 08 01 24 Corp -------------------\n"
     ]
    },
    {
     "name": "stderr",
     "output_type": "stream",
     "text": [
      "  0%|          | 0/60 [00:00<?, ?it/s]\n"
     ]
    },
    {
     "name": "stdout",
     "output_type": "stream",
     "text": [
      "Error occured\n",
      "------------------- Bond: PMT 5.5 11 01 24 Corp -------------------\n"
     ]
    },
    {
     "name": "stderr",
     "output_type": "stream",
     "text": [
      "  0%|          | 0/60 [00:00<?, ?it/s]"
     ]
    },
    {
     "name": "stdout",
     "output_type": "stream",
     "text": [
      "Error occured\n",
      "------------------- Bond: GDSHDG 4.5 01 31 30 Corp -------------------\n"
     ]
    },
    {
     "name": "stderr",
     "output_type": "stream",
     "text": [
      "\n",
      "  0%|          | 0/60 [00:00<?, ?it/s]\n"
     ]
    },
    {
     "name": "stdout",
     "output_type": "stream",
     "text": [
      "Error occured\n",
      "------------------- Bond: BILI 1.375 04 01 26 Corp -------------------\n"
     ]
    },
    {
     "name": "stderr",
     "output_type": "stream",
     "text": [
      " 38%|███▊      | 23/60 [00:00<00:00, 237.70it/s]"
     ]
    },
    {
     "name": "stdout",
     "output_type": "stream",
     "text": [
      "Convergence point found!\n",
      "dt:0.08261016776188351, dx:0.0801394124150493\n",
      "time:0.014504194259643555\n",
      "convergence_coefficient:0.00019680974259821482\n",
      "dt:0.08261016776188351, dx:0.0801394124150493\n",
      "time:0.014504194259643555\n",
      "Convergence point found!\n",
      "------------------- Bond: ETSY 0.125 10 01 26 Corp -------------------\n"
     ]
    },
    {
     "name": "stderr",
     "output_type": "stream",
     "text": [
      "\n",
      " 60%|██████    | 36/60 [00:00<00:00, 55.00it/s] \n"
     ]
    },
    {
     "name": "stdout",
     "output_type": "stream",
     "text": [
      "Convergence point found!\n",
      "dt:0.03976569193901842, dx:0.0307029062975785\n",
      "time:0.14769911766052246\n",
      "convergence_coefficient:0.000337598607147364\n",
      "dt:0.03976569193901842, dx:0.0307029062975785\n",
      "time:0.14769911766052246\n",
      "Convergence point found!\n",
      "------------------- Bond: ZD 1.75 11 01 26 Corp -------------------\n"
     ]
    },
    {
     "name": "stderr",
     "output_type": "stream",
     "text": [
      " 43%|████▎     | 26/60 [00:00<00:00, 284.94it/s]\n"
     ]
    },
    {
     "name": "stdout",
     "output_type": "stream",
     "text": [
      "Convergence point found!\n",
      "dt:0.06587859083536095, dx:0.06422325422229357\n",
      "time:0.04531288146972656\n",
      "convergence_coefficient:0.0008793897828071876\n",
      "dt:0.06587859083536095, dx:0.06422325422229357\n",
      "time:0.04531288146972656\n",
      "Convergence point found!\n",
      "------------------- Bond: NEP 2.5 06 15 26 Corp -------------------\n"
     ]
    },
    {
     "name": "stderr",
     "output_type": "stream",
     "text": [
      " 95%|█████████▌| 57/60 [01:14<00:03,  1.30s/it] \n"
     ]
    },
    {
     "name": "stdout",
     "output_type": "stream",
     "text": [
      "Convergence point found!\n",
      "dt:0.001269655549398695, dx:0.006517823024724289\n",
      "time:14.70369029045105\n",
      "convergence_coefficient:0.0008565300893438219\n",
      "dt:0.001269655549398695, dx:0.006517823024724289\n",
      "time:14.70369029045105\n",
      "Convergence point found!\n",
      "------------------- Bond: AKAM 1.125 02 15 29 Corp -------------------\n"
     ]
    },
    {
     "name": "stderr",
     "output_type": "stream",
     "text": [
      " 90%|█████████ | 54/60 [04:41<00:31,  5.22s/it] \n"
     ]
    },
    {
     "name": "stdout",
     "output_type": "stream",
     "text": [
      "Convergence point found!\n",
      "dt:0.00020121764365939307, dx:0.008133105582266927\n",
      "time:55.507781982421875\n",
      "convergence_coefficient:0.000805551236841956\n",
      "dt:0.00020121764365939307, dx:0.008133105582266927\n",
      "time:55.507781982421875\n",
      "Convergence point found!\n",
      "------------------- Bond: IHFLIN 4.5 03 04 26 Corp -------------------\n"
     ]
    },
    {
     "name": "stderr",
     "output_type": "stream",
     "text": [
      "  0%|          | 0/60 [00:00<?, ?it/s]\n"
     ]
    },
    {
     "name": "stdout",
     "output_type": "stream",
     "text": [
      "Error occured\n",
      "------------------- Bond: CHRS 1.5 04 15 26 Corp -------------------\n"
     ]
    },
    {
     "name": "stderr",
     "output_type": "stream",
     "text": [
      "  0%|          | 0/60 [00:00<?, ?it/s]\n"
     ]
    },
    {
     "name": "stdout",
     "output_type": "stream",
     "text": [
      "Error occured\n",
      "------------------- Bond: RWT 5.75 10 01 25 Corp -------------------\n"
     ]
    },
    {
     "name": "stderr",
     "output_type": "stream",
     "text": [
      "  0%|          | 0/60 [00:00<?, ?it/s]\n"
     ]
    },
    {
     "name": "stdout",
     "output_type": "stream",
     "text": [
      "Error occured\n",
      "------------------- Bond: PSEC 6.375 03 01 25 Corp -------------------\n"
     ]
    },
    {
     "name": "stderr",
     "output_type": "stream",
     "text": [
      "  0%|          | 0/60 [00:00<?, ?it/s]\n"
     ]
    },
    {
     "name": "stdout",
     "output_type": "stream",
     "text": [
      "Error occured\n",
      "------------------- Bond: OPK 3.75 01 15 29 Corp -------------------\n"
     ]
    },
    {
     "name": "stderr",
     "output_type": "stream",
     "text": [
      " 22%|██▏       | 13/60 [00:00<00:00, 32494.61it/s]\n"
     ]
    },
    {
     "name": "stdout",
     "output_type": "stream",
     "text": [
      "Convergence point found!\n",
      "dt:2.249482657675977, dx:0.2767612370754227\n",
      "time:4.506111145019531e-05\n",
      "convergence_coefficient:0.0008233861752570848\n",
      "dt:2.249482657675977, dx:0.2767612370754227\n",
      "time:4.506111145019531e-05\n",
      "Convergence point found!\n",
      "------------------- Bond: VTR 3.75 06 01 26 Corp -------------------\n"
     ]
    },
    {
     "name": "stderr",
     "output_type": "stream",
     "text": [
      "  0%|          | 0/60 [00:00<?, ?it/s]\n"
     ]
    },
    {
     "name": "stdout",
     "output_type": "stream",
     "text": [
      "Error occured\n",
      "------------------- Bond: PMT 5.5 03 15 26 Corp -------------------\n"
     ]
    },
    {
     "name": "stderr",
     "output_type": "stream",
     "text": [
      " 53%|█████▎    | 32/60 [00:01<00:01, 25.40it/s] \n"
     ]
    },
    {
     "name": "stdout",
     "output_type": "stream",
     "text": [
      "Convergence point found!\n",
      "dt:0.008282351026108546, dx:0.04124626382901352\n",
      "time:0.23706841468811035\n",
      "convergence_coefficient:0.0009659371483285526\n",
      "dt:0.008282351026108546, dx:0.04124626382901352\n",
      "time:0.23706841468811035\n",
      "Convergence point found!\n",
      "------------------- Bond: QGEN 1 11 13 24 Corp -------------------\n"
     ]
    },
    {
     "name": "stderr",
     "output_type": "stream",
     "text": [
      "  0%|          | 0/60 [00:00<?, ?it/s]\n"
     ]
    },
    {
     "name": "stdout",
     "output_type": "stream",
     "text": [
      "Error occured\n",
      "------------------- Bond: GEO 6.5 02 23 26 Corp -------------------\n"
     ]
    },
    {
     "name": "stderr",
     "output_type": "stream",
     "text": [
      " 52%|█████▏    | 31/60 [00:00<00:00, 62.77it/s] \n"
     ]
    },
    {
     "name": "stdout",
     "output_type": "stream",
     "text": [
      "Convergence point found!\n",
      "dt:0.026604801751352058, dx:0.04440541134268032\n",
      "time:0.10050797462463379\n",
      "convergence_coefficient:0.000956080962730413\n",
      "dt:0.026604801751352058, dx:0.04440541134268032\n",
      "time:0.10050797462463379\n",
      "Convergence point found!\n",
      "------------------- Bond: PRFT 0.125 11 15 26 Corp -------------------\n"
     ]
    },
    {
     "name": "stderr",
     "output_type": "stream",
     "text": [
      " 63%|██████▎   | 38/60 [00:00<00:00, 78.22it/s] \n"
     ]
    },
    {
     "name": "stdout",
     "output_type": "stream",
     "text": [
      "Convergence point found!\n",
      "dt:0.03378768485523757, dx:0.02648969287610527\n",
      "time:0.09867501258850098\n",
      "convergence_coefficient:0.0008623271596124064\n",
      "dt:0.03378768485523757, dx:0.02648969287610527\n",
      "time:0.09867501258850098\n",
      "Convergence point found!\n",
      "------------------- Bond: KAMN 3.25 05 01 24 Corp -------------------\n"
     ]
    },
    {
     "name": "stderr",
     "output_type": "stream",
     "text": [
      " 45%|████▌     | 27/60 [00:00<00:00, 322.84it/s]\n"
     ]
    },
    {
     "name": "stdout",
     "output_type": "stream",
     "text": [
      "Convergence point found!\n",
      "dt:0.0939182748627569, dx:0.05965419996153637\n",
      "time:0.010957479476928711\n",
      "convergence_coefficient:0.0001403189006541043\n",
      "dt:0.0939182748627569, dx:0.05965419996153637\n",
      "time:0.010957479476928711\n",
      "Convergence point found!\n",
      "------------------- Bond: GTLS 1 11 15 24 Corp -------------------\n"
     ]
    },
    {
     "name": "stderr",
     "output_type": "stream",
     "text": [
      " 40%|████      | 24/60 [00:00<00:00, 210.43it/s]\n"
     ]
    },
    {
     "name": "stdout",
     "output_type": "stream",
     "text": [
      "Convergence point found!\n",
      "dt:0.06571035036378847, dx:0.07443803013251689\n",
      "time:0.017444133758544922\n",
      "convergence_coefficient:0.0006511915334358764\n",
      "dt:0.06571035036378847, dx:0.07443803013251689\n",
      "time:0.017444133758544922\n",
      "Convergence point found!\n",
      "------------------- Bond: YY 1.375 06 15 26 Corp -------------------\n"
     ]
    },
    {
     "name": "stderr",
     "output_type": "stream",
     "text": [
      "  0%|          | 0/60 [00:00<?, ?it/s]\n"
     ]
    },
    {
     "name": "stdout",
     "output_type": "stream",
     "text": [
      "Error occured\n",
      "------------------- Bond: NCLH 5.375 08 01 25 Corp -------------------\n"
     ]
    },
    {
     "name": "stderr",
     "output_type": "stream",
     "text": [
      "  5%|▌         | 3/60 [00:00<00:00, 18342.44it/s]"
     ]
    },
    {
     "name": "stdout",
     "output_type": "stream",
     "text": [
      "Convergence point found!\n",
      "dt:36.55421372591797, dx:1.5098971606184193\n",
      "time:7.3909759521484375e-06\n",
      "convergence_coefficient:0.00042447728862787473\n",
      "dt:36.55421372591797, dx:1.5098971606184193\n",
      "time:7.3909759521484375e-06\n",
      "Convergence point found!\n",
      "------------------- Bond: WGO 1.5 04 01 25 Corp -------------------\n"
     ]
    },
    {
     "name": "stderr",
     "output_type": "stream",
     "text": [
      "\n",
      "  0%|          | 0/60 [00:00<?, ?it/s]\n"
     ]
    },
    {
     "name": "stdout",
     "output_type": "stream",
     "text": [
      "Error occured\n",
      "------------------- Bond: RWT 5.625 07 15 24 Corp -------------------\n"
     ]
    },
    {
     "name": "stderr",
     "output_type": "stream",
     "text": [
      " 48%|████▊     | 29/60 [00:00<00:00, 98.89it/s] \n"
     ]
    },
    {
     "name": "stdout",
     "output_type": "stream",
     "text": [
      "Convergence point found!\n",
      "dt:0.032866802370050074, dx:0.05146813856756942\n",
      "time:0.03773665428161621\n",
      "convergence_coefficient:0.0009793303890010296\n",
      "dt:0.032866802370050074, dx:0.05146813856756942\n",
      "time:0.03773665428161621\n",
      "Convergence point found!\n",
      "------------------- Bond: ENOV 3.875 10 15 28 Corp -------------------\n"
     ]
    },
    {
     "name": "stderr",
     "output_type": "stream",
     "text": [
      "  0%|          | 0/60 [00:00<?, ?it/s]\n"
     ]
    },
    {
     "name": "stdout",
     "output_type": "stream",
     "text": [
      "Error occured\n",
      "------------------- Bond: MITT 6.75 09 15 24 Corp -------------------\n"
     ]
    },
    {
     "name": "stderr",
     "output_type": "stream",
     "text": [
      " 63%|██████▎   | 38/60 [00:01<00:00, 33.75it/s] \n"
     ]
    },
    {
     "name": "stdout",
     "output_type": "stream",
     "text": [
      "Convergence point found!\n",
      "dt:0.013416918506391661, dx:0.02648969287610527\n",
      "time:0.2176375389099121\n",
      "convergence_coefficient:0.00023974031272827517\n",
      "dt:0.013416918506391661, dx:0.02648969287610527\n",
      "time:0.2176375389099121\n",
      "Convergence point found!\n",
      "------------------- Bond: ATSG 1.125 10 15 24 Corp -------------------\n"
     ]
    },
    {
     "name": "stderr",
     "output_type": "stream",
     "text": [
      " 55%|█████▌    | 33/60 [00:00<00:00, 90.78it/s] \n"
     ]
    },
    {
     "name": "stdout",
     "output_type": "stream",
     "text": [
      "Convergence point found!\n",
      "dt:0.03507589830193992, dx:0.03831186849557287\n",
      "time:0.0785684585571289\n",
      "convergence_coefficient:0.0009172145128604062\n",
      "dt:0.03507589830193992, dx:0.03831186849557287\n",
      "time:0.0785684585571289\n",
      "Convergence point found!\n",
      "------------------- Bond: VSH 2.25 06 15 25 Corp -------------------\n"
     ]
    },
    {
     "name": "stderr",
     "output_type": "stream",
     "text": [
      " 48%|████▊     | 29/60 [00:00<00:00, 101.47it/s]\n"
     ]
    },
    {
     "name": "stdout",
     "output_type": "stream",
     "text": [
      "Convergence point found!\n",
      "dt:0.029021129742044727, dx:0.05146813856756942\n",
      "time:0.07473206520080566\n",
      "convergence_coefficient:0.0009142784929754916\n",
      "dt:0.029021129742044727, dx:0.05146813856756942\n",
      "time:0.07473206520080566\n",
      "Convergence point found!\n",
      "------------------- Bond: AY 4 07 15 25 Corp -------------------\n"
     ]
    },
    {
     "name": "stderr",
     "output_type": "stream",
     "text": [
      " 22%|██▏       | 13/60 [00:00<00:00, 33207.04it/s]\n"
     ]
    },
    {
     "name": "stdout",
     "output_type": "stream",
     "text": [
      "Convergence point found!\n",
      "dt:2.773186889320802, dx:0.2767612370754227\n",
      "time:4.673004150390625e-05\n",
      "convergence_coefficient:0.0003531600453541325\n",
      "dt:2.773186889320802, dx:0.2767612370754227\n",
      "time:4.673004150390625e-05\n",
      "Convergence point found!\n",
      "------------------- Bond: LNT 3.875 03 15 26 Corp -------------------\n"
     ]
    },
    {
     "name": "stderr",
     "output_type": "stream",
     "text": [
      " 17%|█▋        | 10/60 [00:00<00:00, 35275.90it/s]"
     ]
    },
    {
     "name": "stdout",
     "output_type": "stream",
     "text": [
      "Convergence point found!\n",
      "dt:10.125777970144068, dx:0.4604239376758781\n",
      "time:2.4080276489257812e-05\n",
      "convergence_coefficient:0.000764815866202831\n",
      "dt:10.125777970144068, dx:0.4604239376758781\n",
      "time:2.4080276489257812e-05\n",
      "Convergence point found!\n"
     ]
    },
    {
     "name": "stderr",
     "output_type": "stream",
     "text": [
      "\n"
     ]
    },
    {
     "data": {
      "text/html": [
       "<div>\n",
       "<style scoped>\n",
       "    .dataframe tbody tr th:only-of-type {\n",
       "        vertical-align: middle;\n",
       "    }\n",
       "\n",
       "    .dataframe tbody tr th {\n",
       "        vertical-align: top;\n",
       "    }\n",
       "\n",
       "    .dataframe thead th {\n",
       "        text-align: right;\n",
       "    }\n",
       "</style>\n",
       "<table border=\"1\" class=\"dataframe\">\n",
       "  <thead>\n",
       "    <tr style=\"text-align: right;\">\n",
       "      <th></th>\n",
       "      <th>TEVA 0 ¼ 02/01/26 Corp</th>\n",
       "      <th>CMCSA 2 10/15/29 Corp</th>\n",
       "      <th>DISH 2 ⅜ 03/15/24 Corp</th>\n",
       "      <th>DISH 2 ⅜ 08/15/24 Corp</th>\n",
       "      <th>SRENVX 3 ¼ 06/13/24 Corp</th>\n",
       "      <th>FE 4 05/01/26 Corp</th>\n",
       "      <th>MS 2 ½ 11/06/26 Corp</th>\n",
       "      <th>RCL 6 08/15/25 Corp</th>\n",
       "      <th>LUV 1 ¼ 05/01/25 Corp</th>\n",
       "      <th>VTR 3 ¾ 06/01/26 Corp</th>\n",
       "      <th>...</th>\n",
       "      <th>KAMN 3.25 05/01/24 Corp</th>\n",
       "      <th>GTLS 1 11/15/24 Corp</th>\n",
       "      <th>YY 1.375 06/15/26 Corp</th>\n",
       "      <th>WGO 1.5 04/01/25 Corp</th>\n",
       "      <th>ENOV 3.875 10/15/28 Corp</th>\n",
       "      <th>ATSG 1.125 10/15/24 Corp</th>\n",
       "      <th>VSH 2.25 06/15/25 Corp</th>\n",
       "      <th>AY 4 07/15/25 Corp</th>\n",
       "      <th>LNT 3.875 03/15/26 Corp</th>\n",
       "      <th>CNP 4.25 08/15/26 Corp</th>\n",
       "    </tr>\n",
       "  </thead>\n",
       "  <tbody>\n",
       "    <tr>\n",
       "      <th>TTM(Year)</th>\n",
       "      <td>6.172222</td>\n",
       "      <td>9.927778</td>\n",
       "      <td>4.261111</td>\n",
       "      <td>6.713889</td>\n",
       "      <td>3.761111</td>\n",
       "      <td>3.041667</td>\n",
       "      <td>3.044444</td>\n",
       "      <td>3.077778</td>\n",
       "      <td>5.077778</td>\n",
       "      <td>3.022222</td>\n",
       "      <td>...</td>\n",
       "      <td>4.391667</td>\n",
       "      <td>4.941667</td>\n",
       "      <td>6.544444</td>\n",
       "      <td>5.322222</td>\n",
       "      <td>5.061111</td>\n",
       "      <td>4.855556</td>\n",
       "      <td>5.530556</td>\n",
       "      <td>5.066667</td>\n",
       "      <td>3.086111</td>\n",
       "      <td>3.080556</td>\n",
       "    </tr>\n",
       "    <tr>\n",
       "      <th>IV</th>\n",
       "      <td>0.492886</td>\n",
       "      <td>0.193723</td>\n",
       "      <td>0.302869</td>\n",
       "      <td>0.302869</td>\n",
       "      <td>0.293252</td>\n",
       "      <td>0.223188</td>\n",
       "      <td>0.165019</td>\n",
       "      <td>0.694218</td>\n",
       "      <td>0.651594</td>\n",
       "      <td>0.260963</td>\n",
       "      <td>...</td>\n",
       "      <td>0.203804</td>\n",
       "      <td>0.275284</td>\n",
       "      <td>0.410670</td>\n",
       "      <td>0.353178</td>\n",
       "      <td>0.401490</td>\n",
       "      <td>0.323419</td>\n",
       "      <td>0.289297</td>\n",
       "      <td>0.427264</td>\n",
       "      <td>0.235034</td>\n",
       "      <td>0.204625</td>\n",
       "    </tr>\n",
       "    <tr>\n",
       "      <th>r</th>\n",
       "      <td>0.017197</td>\n",
       "      <td>0.017922</td>\n",
       "      <td>0.016196</td>\n",
       "      <td>0.016872</td>\n",
       "      <td>0.002219</td>\n",
       "      <td>0.034644</td>\n",
       "      <td>0.046027</td>\n",
       "      <td>0.028670</td>\n",
       "      <td>0.005138</td>\n",
       "      <td>0.039234</td>\n",
       "      <td>...</td>\n",
       "      <td>0.016143</td>\n",
       "      <td>0.015923</td>\n",
       "      <td>0.016973</td>\n",
       "      <td>0.017707</td>\n",
       "      <td>0.049279</td>\n",
       "      <td>0.015958</td>\n",
       "      <td>0.017582</td>\n",
       "      <td>0.004640</td>\n",
       "      <td>0.041942</td>\n",
       "      <td>0.042521</td>\n",
       "    </tr>\n",
       "    <tr>\n",
       "      <th>d</th>\n",
       "      <td>0.028700</td>\n",
       "      <td>0.001000</td>\n",
       "      <td>0.027600</td>\n",
       "      <td>0.000000</td>\n",
       "      <td>0.000000</td>\n",
       "      <td>0.000000</td>\n",
       "      <td>0.022300</td>\n",
       "      <td>0.002400</td>\n",
       "      <td>0.000000</td>\n",
       "      <td>0.000000</td>\n",
       "      <td>...</td>\n",
       "      <td>0.000000</td>\n",
       "      <td>0.017500</td>\n",
       "      <td>0.010000</td>\n",
       "      <td>0.000000</td>\n",
       "      <td>0.103600</td>\n",
       "      <td>0.033200</td>\n",
       "      <td>0.181700</td>\n",
       "      <td>0.018200</td>\n",
       "      <td>0.098000</td>\n",
       "      <td>0.039600</td>\n",
       "    </tr>\n",
       "    <tr>\n",
       "      <th>CDS/10000</th>\n",
       "      <td>0.013240</td>\n",
       "      <td>0.004910</td>\n",
       "      <td>0.011920</td>\n",
       "      <td>0.011920</td>\n",
       "      <td>0.005070</td>\n",
       "      <td>0.008830</td>\n",
       "      <td>0.017040</td>\n",
       "      <td>0.057160</td>\n",
       "      <td>0.014880</td>\n",
       "      <td>0.014140</td>\n",
       "      <td>...</td>\n",
       "      <td>0.003050</td>\n",
       "      <td>0.009010</td>\n",
       "      <td>0.009900</td>\n",
       "      <td>0.011680</td>\n",
       "      <td>0.007630</td>\n",
       "      <td>0.010480</td>\n",
       "      <td>0.007390</td>\n",
       "      <td>0.009400</td>\n",
       "      <td>0.008960</td>\n",
       "      <td>0.006060</td>\n",
       "    </tr>\n",
       "    <tr>\n",
       "      <th>Conversion Price</th>\n",
       "      <td>39.784052</td>\n",
       "      <td>71.520000</td>\n",
       "      <td>234.318251</td>\n",
       "      <td>185.752763</td>\n",
       "      <td>94.161001</td>\n",
       "      <td>46.812096</td>\n",
       "      <td>97.195993</td>\n",
       "      <td>50.105974</td>\n",
       "      <td>37.426831</td>\n",
       "      <td>54.806533</td>\n",
       "      <td>...</td>\n",
       "      <td>65.262650</td>\n",
       "      <td>58.725079</td>\n",
       "      <td>83.167691</td>\n",
       "      <td>62.530093</td>\n",
       "      <td>58.317879</td>\n",
       "      <td>31.900471</td>\n",
       "      <td>31.106521</td>\n",
       "      <td>34.355997</td>\n",
       "      <td>64.324815</td>\n",
       "      <td>36.862554</td>\n",
       "    </tr>\n",
       "    <tr>\n",
       "      <th>Coupon</th>\n",
       "      <td>0.002500</td>\n",
       "      <td>0.020000</td>\n",
       "      <td>0.023750</td>\n",
       "      <td>0.033750</td>\n",
       "      <td>0.032500</td>\n",
       "      <td>0.040000</td>\n",
       "      <td>0.025000</td>\n",
       "      <td>0.060000</td>\n",
       "      <td>0.012500</td>\n",
       "      <td>0.037500</td>\n",
       "      <td>...</td>\n",
       "      <td>0.032500</td>\n",
       "      <td>0.010000</td>\n",
       "      <td>0.013750</td>\n",
       "      <td>0.015000</td>\n",
       "      <td>0.038750</td>\n",
       "      <td>0.011250</td>\n",
       "      <td>0.022500</td>\n",
       "      <td>0.040000</td>\n",
       "      <td>0.038750</td>\n",
       "      <td>0.042500</td>\n",
       "    </tr>\n",
       "    <tr>\n",
       "      <th>Coupon Frequency</th>\n",
       "      <td>2.000000</td>\n",
       "      <td>4.000000</td>\n",
       "      <td>2.000000</td>\n",
       "      <td>2.000000</td>\n",
       "      <td>2.000000</td>\n",
       "      <td>2.000000</td>\n",
       "      <td>2.000000</td>\n",
       "      <td>2.000000</td>\n",
       "      <td>2.000000</td>\n",
       "      <td>2.000000</td>\n",
       "      <td>...</td>\n",
       "      <td>2.000000</td>\n",
       "      <td>2.000000</td>\n",
       "      <td>2.000000</td>\n",
       "      <td>2.000000</td>\n",
       "      <td>2.000000</td>\n",
       "      <td>2.000000</td>\n",
       "      <td>2.000000</td>\n",
       "      <td>2.000000</td>\n",
       "      <td>2.000000</td>\n",
       "      <td>2.000000</td>\n",
       "    </tr>\n",
       "    <tr>\n",
       "      <th>CPT</th>\n",
       "      <td>0.062106</td>\n",
       "      <td>0.024622</td>\n",
       "      <td>0.039765</td>\n",
       "      <td>0.011998</td>\n",
       "      <td>0.048006</td>\n",
       "      <td>0.002740</td>\n",
       "      <td>0.001825</td>\n",
       "      <td>0.014440</td>\n",
       "      <td>0.003282</td>\n",
       "      <td>0.160846</td>\n",
       "      <td>...</td>\n",
       "      <td>0.068311</td>\n",
       "      <td>0.069140</td>\n",
       "      <td>0.068761</td>\n",
       "      <td>0.046973</td>\n",
       "      <td>0.097695</td>\n",
       "      <td>0.053204</td>\n",
       "      <td>0.078855</td>\n",
       "      <td>0.001096</td>\n",
       "      <td>0.017102</td>\n",
       "      <td>0.015329</td>\n",
       "    </tr>\n",
       "    <tr>\n",
       "      <th>dx</th>\n",
       "      <td>0.014678</td>\n",
       "      <td>0.022855</td>\n",
       "      <td>0.388574</td>\n",
       "      <td>0.055410</td>\n",
       "      <td>0.033055</td>\n",
       "      <td>0.041246</td>\n",
       "      <td>0.035586</td>\n",
       "      <td>0.140400</td>\n",
       "      <td>0.100000</td>\n",
       "      <td>0.276761</td>\n",
       "      <td>...</td>\n",
       "      <td>0.026490</td>\n",
       "      <td>0.059654</td>\n",
       "      <td>0.074438</td>\n",
       "      <td>1.509897</td>\n",
       "      <td>0.051468</td>\n",
       "      <td>0.026490</td>\n",
       "      <td>0.038312</td>\n",
       "      <td>0.051468</td>\n",
       "      <td>0.276761</td>\n",
       "      <td>0.460424</td>\n",
       "    </tr>\n",
       "    <tr>\n",
       "      <th>dt</th>\n",
       "      <td>0.001774</td>\n",
       "      <td>0.027837</td>\n",
       "      <td>3.292060</td>\n",
       "      <td>0.066942</td>\n",
       "      <td>0.025410</td>\n",
       "      <td>0.068306</td>\n",
       "      <td>0.093009</td>\n",
       "      <td>0.081804</td>\n",
       "      <td>0.047106</td>\n",
       "      <td>2.249483</td>\n",
       "      <td>...</td>\n",
       "      <td>0.033788</td>\n",
       "      <td>0.093918</td>\n",
       "      <td>0.065710</td>\n",
       "      <td>36.554214</td>\n",
       "      <td>0.032867</td>\n",
       "      <td>0.013417</td>\n",
       "      <td>0.035076</td>\n",
       "      <td>0.029021</td>\n",
       "      <td>2.773187</td>\n",
       "      <td>10.125778</td>\n",
       "    </tr>\n",
       "    <tr>\n",
       "      <th>S</th>\n",
       "      <td>9.560000</td>\n",
       "      <td>45.370000</td>\n",
       "      <td>43.210000</td>\n",
       "      <td>43.210000</td>\n",
       "      <td>69.760000</td>\n",
       "      <td>38.750000</td>\n",
       "      <td>82.400000</td>\n",
       "      <td>38.840000</td>\n",
       "      <td>30.970000</td>\n",
       "      <td>45.720000</td>\n",
       "      <td>...</td>\n",
       "      <td>65.640000</td>\n",
       "      <td>68.800000</td>\n",
       "      <td>58.820000</td>\n",
       "      <td>52.800000</td>\n",
       "      <td>44.470000</td>\n",
       "      <td>23.460000</td>\n",
       "      <td>21.490000</td>\n",
       "      <td>29.320000</td>\n",
       "      <td>51.270000</td>\n",
       "      <td>29.740000</td>\n",
       "    </tr>\n",
       "    <tr>\n",
       "      <th>computation_time</th>\n",
       "      <td>4.278297</td>\n",
       "      <td>0.306492</td>\n",
       "      <td>0.000044</td>\n",
       "      <td>0.026829</td>\n",
       "      <td>0.097074</td>\n",
       "      <td>0.012937</td>\n",
       "      <td>0.054320</td>\n",
       "      <td>0.003240</td>\n",
       "      <td>0.012276</td>\n",
       "      <td>0.000045</td>\n",
       "      <td>...</td>\n",
       "      <td>0.098675</td>\n",
       "      <td>0.010957</td>\n",
       "      <td>0.017444</td>\n",
       "      <td>0.000007</td>\n",
       "      <td>0.037737</td>\n",
       "      <td>0.217638</td>\n",
       "      <td>0.078568</td>\n",
       "      <td>0.074732</td>\n",
       "      <td>0.000047</td>\n",
       "      <td>0.000024</td>\n",
       "    </tr>\n",
       "  </tbody>\n",
       "</table>\n",
       "<p>13 rows × 53 columns</p>\n",
       "</div>"
      ],
      "text/plain": [
       "                  TEVA 0 ¼ 02/01/26 Corp  CMCSA 2 10/15/29 Corp  \\\n",
       "TTM(Year)                       6.172222               9.927778   \n",
       "IV                              0.492886               0.193723   \n",
       "r                               0.017197               0.017922   \n",
       "d                               0.028700               0.001000   \n",
       "CDS/10000                       0.013240               0.004910   \n",
       "Conversion Price               39.784052              71.520000   \n",
       "Coupon                          0.002500               0.020000   \n",
       "Coupon Frequency                2.000000               4.000000   \n",
       "CPT                             0.062106               0.024622   \n",
       "dx                              0.014678               0.022855   \n",
       "dt                              0.001774               0.027837   \n",
       "S                               9.560000              45.370000   \n",
       "computation_time                4.278297               0.306492   \n",
       "\n",
       "                  DISH 2 ⅜ 03/15/24 Corp  DISH 2 ⅜ 08/15/24 Corp  \\\n",
       "TTM(Year)                       4.261111                6.713889   \n",
       "IV                              0.302869                0.302869   \n",
       "r                               0.016196                0.016872   \n",
       "d                               0.027600                0.000000   \n",
       "CDS/10000                       0.011920                0.011920   \n",
       "Conversion Price              234.318251              185.752763   \n",
       "Coupon                          0.023750                0.033750   \n",
       "Coupon Frequency                2.000000                2.000000   \n",
       "CPT                             0.039765                0.011998   \n",
       "dx                              0.388574                0.055410   \n",
       "dt                              3.292060                0.066942   \n",
       "S                              43.210000               43.210000   \n",
       "computation_time                0.000044                0.026829   \n",
       "\n",
       "                  SRENVX 3 ¼ 06/13/24 Corp  FE 4 05/01/26 Corp  \\\n",
       "TTM(Year)                         3.761111            3.041667   \n",
       "IV                                0.293252            0.223188   \n",
       "r                                 0.002219            0.034644   \n",
       "d                                 0.000000            0.000000   \n",
       "CDS/10000                         0.005070            0.008830   \n",
       "Conversion Price                 94.161001           46.812096   \n",
       "Coupon                            0.032500            0.040000   \n",
       "Coupon Frequency                  2.000000            2.000000   \n",
       "CPT                               0.048006            0.002740   \n",
       "dx                                0.033055            0.041246   \n",
       "dt                                0.025410            0.068306   \n",
       "S                                69.760000           38.750000   \n",
       "computation_time                  0.097074            0.012937   \n",
       "\n",
       "                  MS 2 ½ 11/06/26 Corp  RCL 6 08/15/25 Corp  \\\n",
       "TTM(Year)                     3.044444             3.077778   \n",
       "IV                            0.165019             0.694218   \n",
       "r                             0.046027             0.028670   \n",
       "d                             0.022300             0.002400   \n",
       "CDS/10000                     0.017040             0.057160   \n",
       "Conversion Price             97.195993            50.105974   \n",
       "Coupon                        0.025000             0.060000   \n",
       "Coupon Frequency              2.000000             2.000000   \n",
       "CPT                           0.001825             0.014440   \n",
       "dx                            0.035586             0.140400   \n",
       "dt                            0.093009             0.081804   \n",
       "S                            82.400000            38.840000   \n",
       "computation_time              0.054320             0.003240   \n",
       "\n",
       "                  LUV 1 ¼ 05/01/25 Corp  VTR 3 ¾ 06/01/26 Corp  ...  \\\n",
       "TTM(Year)                      5.077778               3.022222  ...   \n",
       "IV                             0.651594               0.260963  ...   \n",
       "r                              0.005138               0.039234  ...   \n",
       "d                              0.000000               0.000000  ...   \n",
       "CDS/10000                      0.014880               0.014140  ...   \n",
       "Conversion Price              37.426831              54.806533  ...   \n",
       "Coupon                         0.012500               0.037500  ...   \n",
       "Coupon Frequency               2.000000               2.000000  ...   \n",
       "CPT                            0.003282               0.160846  ...   \n",
       "dx                             0.100000               0.276761  ...   \n",
       "dt                             0.047106               2.249483  ...   \n",
       "S                             30.970000              45.720000  ...   \n",
       "computation_time               0.012276               0.000045  ...   \n",
       "\n",
       "                  KAMN 3.25 05/01/24 Corp  GTLS 1 11/15/24 Corp  \\\n",
       "TTM(Year)                        4.391667              4.941667   \n",
       "IV                               0.203804              0.275284   \n",
       "r                                0.016143              0.015923   \n",
       "d                                0.000000              0.017500   \n",
       "CDS/10000                        0.003050              0.009010   \n",
       "Conversion Price                65.262650             58.725079   \n",
       "Coupon                           0.032500              0.010000   \n",
       "Coupon Frequency                 2.000000              2.000000   \n",
       "CPT                              0.068311              0.069140   \n",
       "dx                               0.026490              0.059654   \n",
       "dt                               0.033788              0.093918   \n",
       "S                               65.640000             68.800000   \n",
       "computation_time                 0.098675              0.010957   \n",
       "\n",
       "                  YY 1.375 06/15/26 Corp  WGO 1.5 04/01/25 Corp  \\\n",
       "TTM(Year)                       6.544444               5.322222   \n",
       "IV                              0.410670               0.353178   \n",
       "r                               0.016973               0.017707   \n",
       "d                               0.010000               0.000000   \n",
       "CDS/10000                       0.009900               0.011680   \n",
       "Conversion Price               83.167691              62.530093   \n",
       "Coupon                          0.013750               0.015000   \n",
       "Coupon Frequency                2.000000               2.000000   \n",
       "CPT                             0.068761               0.046973   \n",
       "dx                              0.074438               1.509897   \n",
       "dt                              0.065710              36.554214   \n",
       "S                              58.820000              52.800000   \n",
       "computation_time                0.017444               0.000007   \n",
       "\n",
       "                  ENOV 3.875 10/15/28 Corp  ATSG 1.125 10/15/24 Corp  \\\n",
       "TTM(Year)                         5.061111                  4.855556   \n",
       "IV                                0.401490                  0.323419   \n",
       "r                                 0.049279                  0.015958   \n",
       "d                                 0.103600                  0.033200   \n",
       "CDS/10000                         0.007630                  0.010480   \n",
       "Conversion Price                 58.317879                 31.900471   \n",
       "Coupon                            0.038750                  0.011250   \n",
       "Coupon Frequency                  2.000000                  2.000000   \n",
       "CPT                               0.097695                  0.053204   \n",
       "dx                                0.051468                  0.026490   \n",
       "dt                                0.032867                  0.013417   \n",
       "S                                44.470000                 23.460000   \n",
       "computation_time                  0.037737                  0.217638   \n",
       "\n",
       "                  VSH 2.25 06/15/25 Corp  AY 4 07/15/25 Corp  \\\n",
       "TTM(Year)                       5.530556            5.066667   \n",
       "IV                              0.289297            0.427264   \n",
       "r                               0.017582            0.004640   \n",
       "d                               0.181700            0.018200   \n",
       "CDS/10000                       0.007390            0.009400   \n",
       "Conversion Price               31.106521           34.355997   \n",
       "Coupon                          0.022500            0.040000   \n",
       "Coupon Frequency                2.000000            2.000000   \n",
       "CPT                             0.078855            0.001096   \n",
       "dx                              0.038312            0.051468   \n",
       "dt                              0.035076            0.029021   \n",
       "S                              21.490000           29.320000   \n",
       "computation_time                0.078568            0.074732   \n",
       "\n",
       "                  LNT 3.875 03/15/26 Corp  CNP 4.25 08/15/26 Corp  \n",
       "TTM(Year)                        3.086111                3.080556  \n",
       "IV                               0.235034                0.204625  \n",
       "r                                0.041942                0.042521  \n",
       "d                                0.098000                0.039600  \n",
       "CDS/10000                        0.008960                0.006060  \n",
       "Conversion Price                64.324815               36.862554  \n",
       "Coupon                           0.038750                0.042500  \n",
       "Coupon Frequency                 2.000000                2.000000  \n",
       "CPT                              0.017102                0.015329  \n",
       "dx                               0.276761                0.460424  \n",
       "dt                               2.773187               10.125778  \n",
       "S                               51.270000               29.740000  \n",
       "computation_time                 0.000047                0.000024  \n",
       "\n",
       "[13 rows x 53 columns]"
      ]
     },
     "execution_count": 9,
     "metadata": {},
     "output_type": "execute_result"
    }
   ],
   "source": [
    "import numpy as np\n",
    "import matplotlib.pyplot as plt\n",
    "import time\n",
    "from tqdm import tqdm\n",
    "from matplotlib.ticker import ScalarFormatter\n",
    "from numpy.linalg import LinAlgError\n",
    "\n",
    "bonds_converged_points = {}\n",
    "# 生成 dx 值\n",
    "dx_values = list(np.logspace(-2.25, -1, 40)) + list(np.logspace(-1, 0.4, 20))\n",
    "dx_values.reverse()\n",
    "print(f\"dx in our test: {dx_values}\")\n",
    "\n",
    "for i in range(len(Name_df)):\n",
    "    print(f'------------------- Bond: {sheetname} -------------------')\n",
    "    try:\n",
    "        sheetname=Name_df.iloc[i,0].replace(\"/\", \" \")\n",
    "        d=Name_df.iloc[i-1,1] # 股息率\n",
    "        CB_df=xls[sheetname] # sheetname --> data\n",
    "        \n",
    "        # extract parameters\n",
    "        CR=CB_df.iloc[0,9]     # conversion ratio\n",
    "        CP=CB_df.iloc[1,9]     # conversion price\n",
    "        Coupon=CB_df.iloc[2,9]/100\n",
    "        FCP=pd.to_datetime(CB_df.iloc[4,9]) # first coupon payment\n",
    "        CFQ=CB_df.iloc[5,9]     # Coupon Frequency\n",
    "        M=pd.to_datetime(CB_df.iloc[6,9])   # Maturity date\n",
    "        call_date = CB_df.iloc[0,12]\n",
    "        call_price = CB_df.iloc[1,12]\n",
    "        put_date = CB_df.iloc[2,12]\n",
    "        put_price = CB_df.iloc[3,12]\n",
    "        \n",
    "        # Data Processing\n",
    "        Price_df= CB_df.iloc[9:, 0:2].dropna()\n",
    "        IVOL_df=CB_df.iloc[9:, 5:7].dropna()\n",
    "        CDS_df=CB_df.iloc[9:, 7:9].dropna()\n",
    "        S_df=CB_df.iloc[9:, 9:11].dropna()\n",
    "        Price_df= Price_df.rename(columns={0: \"date\", 1: 'bond_price'})\n",
    "        CDS_df= CDS_df.rename(columns={7: \"date\", 8: 'CDS'})\n",
    "        IVOL_df= IVOL_df.rename(columns={5: \"date\", 6: 'IVOL'})\n",
    "        S_df= S_df.rename(columns={9: \"date\", 10: 'S'})\n",
    "        Price_df['date'] = pd.to_datetime(Price_df['date'])\n",
    "        IVOL_df['date'] = pd.to_datetime(IVOL_df['date'])\n",
    "        CDS_df['date'] = pd.to_datetime(CDS_df['date'])\n",
    "        S_df['date'] = pd.to_datetime(S_df['date'])\n",
    "        # Merge all data together (CBprice,IV,CDS,StockPrice)\n",
    "        Price_df = pd.merge(Price_df, IVOL_df, on=\"date\", how='inner')\n",
    "        Price_df = pd.merge(Price_df, CDS_df, on=\"date\", how='inner')\n",
    "        Price_df = pd.merge(Price_df, S_df, on=\"date\", how='inner')\n",
    "        \n",
    "        # Interplotation of Risk Free Rates in Different Periods\n",
    "        r_df=xls['R'].rename(columns={0: \"date\"}).iloc[1:,:]\n",
    "        r_df['date'] = pd.to_datetime(r_df['date']) \n",
    "        Price_df = pd.merge(Price_df, r_df, on=\"date\", how='inner')\n",
    "        Price_df =Price_df .dropna()\n",
    "        if len(Price_df)<2:\n",
    "            print(i)\n",
    "        \n",
    "        # rate interplotation and simulate price\n",
    "        rlist=[1/12,1/6,1/4,1/2,1,2,3,5,7,10,20,30]\n",
    "        SimulatePrice=[]\n",
    "        \n",
    "        j = 0\n",
    "        date1,v,CDS,S=Price_df.iloc[j,0],Price_df.iloc[j,2],Price_df.iloc[j,3],Price_df.iloc[j,4]\n",
    "        T = (M - date1).days\n",
    "        CPT=(FCP - date1).days%(360/CFQ)/T\n",
    "        Year=T/360\n",
    "        rlow,rhigh=find_between(rlist,Year)\n",
    "        r=((Year-rlow)*Price_df.iloc[j,int(rlist.index(rlow))+5]/(rhigh-rlow)+(rhigh-Year)*Price_df.iloc[j,int(rlist.index(rhigh))+5]/(rhigh-rlow))/100\n",
    "    \n",
    "    \n",
    "    \n",
    "        prices = []\n",
    "        \n",
    "        for dx in tqdm(dx_values):\n",
    "            start_time = time.time()  # 计时开始\n",
    "            \n",
    "            dt = 2 * dx**2 / (v / 100)**2  # CFL\n",
    "            price = crank_nicolson_TF_dxdt(100, Year, v/100, r, d, CDS/10000, CP, Coupon, CFQ, CPT, \n",
    "                                           dx, dt, S)\n",
    "            prices.append(price)\n",
    "            \n",
    "            end_time = time.time()  # 计时结束\n",
    "            computation_time = end_time-start_time\n",
    "            if len(prices) > 3:\n",
    "                convergence_coefficient = (abs(price-prices[-1])+abs(price-prices[-2])+abs(price-prices[-3]))/3/price\n",
    "                if convergence_coefficient < 0.001:\n",
    "                    print(\"Convergence point found!\")\n",
    "                    print(f\"dt:{dt}, dx:{dx}\")\n",
    "                    print(f\"time:{computation_time}\")\n",
    "                    print(f\"convergence_coefficient:{convergence_coefficient}\")\n",
    "                    print(f\"dt:{dt}, dx:{dx}\")\n",
    "                    print(f\"time:{computation_time}\")\n",
    "        \n",
    "                    params_dict = {\n",
    "                        \"TTM(Year)\": Year,\n",
    "                        \"IV\": v/100,  # 假设变量名是 v_100\n",
    "                        \"r\": r,\n",
    "                        \"d\": d,\n",
    "                        \"CDS/10000\": CDS/10000,  # 假设变量名是 CDS_10000\n",
    "                        \"Conversion Price\": CP,\n",
    "                        \"Coupon\": Coupon,\n",
    "                        \"Coupon Frequency\": CFQ,\n",
    "                        \"CPT\": CPT,\n",
    "                        \"dx\": dx,\n",
    "                        \"dt\": dt,\n",
    "                        \"S\": S,\n",
    "                        \"computation_time\": computation_time\n",
    "                    }\n",
    "                    print(\"Convergence point found!\")\n",
    "                    break\n",
    "                \n",
    "        bond_name = Name_df.iloc[i,0]\n",
    "        bonds_converged_points[bond_name] = params_dict\n",
    "        \n",
    "    except:\n",
    "        print('Error occured')\n",
    "        continue\n",
    "\n",
    "results = pd.DataFrame(bonds_converged_points)\n",
    "results"
   ]
  },
  {
   "cell_type": "code",
   "execution_count": 11,
   "id": "10944559-3838-4c5d-8825-612be38f6d1f",
   "metadata": {
    "scrolled": true
   },
   "outputs": [
    {
     "data": {
      "text/html": [
       "<div>\n",
       "<style scoped>\n",
       "    .dataframe tbody tr th:only-of-type {\n",
       "        vertical-align: middle;\n",
       "    }\n",
       "\n",
       "    .dataframe tbody tr th {\n",
       "        vertical-align: top;\n",
       "    }\n",
       "\n",
       "    .dataframe thead th {\n",
       "        text-align: right;\n",
       "    }\n",
       "</style>\n",
       "<table border=\"1\" class=\"dataframe\">\n",
       "  <thead>\n",
       "    <tr style=\"text-align: right;\">\n",
       "      <th></th>\n",
       "      <th>TTM(Year)</th>\n",
       "      <th>IV</th>\n",
       "      <th>r</th>\n",
       "      <th>d</th>\n",
       "      <th>CDS/10000</th>\n",
       "      <th>Conversion Price</th>\n",
       "      <th>Coupon</th>\n",
       "      <th>Coupon Frequency</th>\n",
       "      <th>CPT</th>\n",
       "      <th>dx</th>\n",
       "      <th>dt</th>\n",
       "      <th>S</th>\n",
       "      <th>computation_time</th>\n",
       "    </tr>\n",
       "  </thead>\n",
       "  <tbody>\n",
       "    <tr>\n",
       "      <th>TEVA 0 ¼ 02/01/26 Corp</th>\n",
       "      <td>6.172222</td>\n",
       "      <td>0.492886</td>\n",
       "      <td>0.017197</td>\n",
       "      <td>0.0287</td>\n",
       "      <td>0.01324</td>\n",
       "      <td>39.784052</td>\n",
       "      <td>0.00250</td>\n",
       "      <td>2.0</td>\n",
       "      <td>0.062106</td>\n",
       "      <td>0.014678</td>\n",
       "      <td>0.001774</td>\n",
       "      <td>9.5600</td>\n",
       "      <td>4.278297</td>\n",
       "    </tr>\n",
       "    <tr>\n",
       "      <th>CMCSA 2 10/15/29 Corp</th>\n",
       "      <td>9.927778</td>\n",
       "      <td>0.193723</td>\n",
       "      <td>0.017922</td>\n",
       "      <td>0.0010</td>\n",
       "      <td>0.00491</td>\n",
       "      <td>71.520000</td>\n",
       "      <td>0.02000</td>\n",
       "      <td>4.0</td>\n",
       "      <td>0.024622</td>\n",
       "      <td>0.022855</td>\n",
       "      <td>0.027837</td>\n",
       "      <td>45.3700</td>\n",
       "      <td>0.306492</td>\n",
       "    </tr>\n",
       "    <tr>\n",
       "      <th>DISH 2 ⅜ 03/15/24 Corp</th>\n",
       "      <td>4.261111</td>\n",
       "      <td>0.302869</td>\n",
       "      <td>0.016196</td>\n",
       "      <td>0.0276</td>\n",
       "      <td>0.01192</td>\n",
       "      <td>234.318251</td>\n",
       "      <td>0.02375</td>\n",
       "      <td>2.0</td>\n",
       "      <td>0.039765</td>\n",
       "      <td>0.388574</td>\n",
       "      <td>3.292060</td>\n",
       "      <td>43.2100</td>\n",
       "      <td>0.000044</td>\n",
       "    </tr>\n",
       "    <tr>\n",
       "      <th>DISH 2 ⅜ 08/15/24 Corp</th>\n",
       "      <td>6.713889</td>\n",
       "      <td>0.302869</td>\n",
       "      <td>0.016872</td>\n",
       "      <td>0.0000</td>\n",
       "      <td>0.01192</td>\n",
       "      <td>185.752763</td>\n",
       "      <td>0.03375</td>\n",
       "      <td>2.0</td>\n",
       "      <td>0.011998</td>\n",
       "      <td>0.055410</td>\n",
       "      <td>0.066942</td>\n",
       "      <td>43.2100</td>\n",
       "      <td>0.026829</td>\n",
       "    </tr>\n",
       "    <tr>\n",
       "      <th>SRENVX 3 ¼ 06/13/24 Corp</th>\n",
       "      <td>3.761111</td>\n",
       "      <td>0.293252</td>\n",
       "      <td>0.002219</td>\n",
       "      <td>0.0000</td>\n",
       "      <td>0.00507</td>\n",
       "      <td>94.161001</td>\n",
       "      <td>0.03250</td>\n",
       "      <td>2.0</td>\n",
       "      <td>0.048006</td>\n",
       "      <td>0.033055</td>\n",
       "      <td>0.025410</td>\n",
       "      <td>69.7600</td>\n",
       "      <td>0.097074</td>\n",
       "    </tr>\n",
       "    <tr>\n",
       "      <th>FE 4 05/01/26 Corp</th>\n",
       "      <td>3.041667</td>\n",
       "      <td>0.223188</td>\n",
       "      <td>0.034644</td>\n",
       "      <td>0.0000</td>\n",
       "      <td>0.00883</td>\n",
       "      <td>46.812096</td>\n",
       "      <td>0.04000</td>\n",
       "      <td>2.0</td>\n",
       "      <td>0.002740</td>\n",
       "      <td>0.041246</td>\n",
       "      <td>0.068306</td>\n",
       "      <td>38.7500</td>\n",
       "      <td>0.012937</td>\n",
       "    </tr>\n",
       "    <tr>\n",
       "      <th>MS 2 ½ 11/06/26 Corp</th>\n",
       "      <td>3.044444</td>\n",
       "      <td>0.165019</td>\n",
       "      <td>0.046027</td>\n",
       "      <td>0.0223</td>\n",
       "      <td>0.01704</td>\n",
       "      <td>97.195993</td>\n",
       "      <td>0.02500</td>\n",
       "      <td>2.0</td>\n",
       "      <td>0.001825</td>\n",
       "      <td>0.035586</td>\n",
       "      <td>0.093009</td>\n",
       "      <td>82.4000</td>\n",
       "      <td>0.054320</td>\n",
       "    </tr>\n",
       "    <tr>\n",
       "      <th>RCL 6 08/15/25 Corp</th>\n",
       "      <td>3.077778</td>\n",
       "      <td>0.694218</td>\n",
       "      <td>0.028670</td>\n",
       "      <td>0.0024</td>\n",
       "      <td>0.05716</td>\n",
       "      <td>50.105974</td>\n",
       "      <td>0.06000</td>\n",
       "      <td>2.0</td>\n",
       "      <td>0.014440</td>\n",
       "      <td>0.140400</td>\n",
       "      <td>0.081804</td>\n",
       "      <td>38.8400</td>\n",
       "      <td>0.003240</td>\n",
       "    </tr>\n",
       "    <tr>\n",
       "      <th>LUV 1 ¼ 05/01/25 Corp</th>\n",
       "      <td>5.077778</td>\n",
       "      <td>0.651594</td>\n",
       "      <td>0.005138</td>\n",
       "      <td>0.0000</td>\n",
       "      <td>0.01488</td>\n",
       "      <td>37.426831</td>\n",
       "      <td>0.01250</td>\n",
       "      <td>2.0</td>\n",
       "      <td>0.003282</td>\n",
       "      <td>0.100000</td>\n",
       "      <td>0.047106</td>\n",
       "      <td>30.9700</td>\n",
       "      <td>0.012276</td>\n",
       "    </tr>\n",
       "    <tr>\n",
       "      <th>VTR 3 ¾ 06/01/26 Corp</th>\n",
       "      <td>3.022222</td>\n",
       "      <td>0.260963</td>\n",
       "      <td>0.039234</td>\n",
       "      <td>0.0000</td>\n",
       "      <td>0.01414</td>\n",
       "      <td>54.806533</td>\n",
       "      <td>0.03750</td>\n",
       "      <td>2.0</td>\n",
       "      <td>0.160846</td>\n",
       "      <td>0.276761</td>\n",
       "      <td>2.249483</td>\n",
       "      <td>45.7200</td>\n",
       "      <td>0.000045</td>\n",
       "    </tr>\n",
       "    <tr>\n",
       "      <th>WFC 0 ¼ 11/01/24 Corp</th>\n",
       "      <td>4.888889</td>\n",
       "      <td>0.209632</td>\n",
       "      <td>0.015539</td>\n",
       "      <td>0.0419</td>\n",
       "      <td>0.00497</td>\n",
       "      <td>74.748918</td>\n",
       "      <td>0.00250</td>\n",
       "      <td>2.0</td>\n",
       "      <td>0.065341</td>\n",
       "      <td>0.074438</td>\n",
       "      <td>0.252176</td>\n",
       "      <td>63.9300</td>\n",
       "      <td>0.003422</td>\n",
       "    </tr>\n",
       "    <tr>\n",
       "      <th>SO 3.875 12/15/25 Corp</th>\n",
       "      <td>1.808333</td>\n",
       "      <td>0.155931</td>\n",
       "      <td>0.049091</td>\n",
       "      <td>0.0247</td>\n",
       "      <td>0.00456</td>\n",
       "      <td>84.162332</td>\n",
       "      <td>0.03875</td>\n",
       "      <td>2.0</td>\n",
       "      <td>0.149002</td>\n",
       "      <td>0.026490</td>\n",
       "      <td>0.057719</td>\n",
       "      <td>68.2000</td>\n",
       "      <td>0.048987</td>\n",
       "    </tr>\n",
       "    <tr>\n",
       "      <th>NEE 3 03/01/27 Corp</th>\n",
       "      <td>3.047222</td>\n",
       "      <td>0.278322</td>\n",
       "      <td>0.042642</td>\n",
       "      <td>0.0406</td>\n",
       "      <td>0.00820</td>\n",
       "      <td>68.061010</td>\n",
       "      <td>0.03000</td>\n",
       "      <td>2.0</td>\n",
       "      <td>0.005469</td>\n",
       "      <td>0.047807</td>\n",
       "      <td>0.059008</td>\n",
       "      <td>55.0400</td>\n",
       "      <td>0.014988</td>\n",
       "    </tr>\n",
       "    <tr>\n",
       "      <th>DISH 3.375 08/15/26 Corp</th>\n",
       "      <td>6.713889</td>\n",
       "      <td>0.302869</td>\n",
       "      <td>0.016872</td>\n",
       "      <td>0.0331</td>\n",
       "      <td>0.01192</td>\n",
       "      <td>185.752763</td>\n",
       "      <td>0.03375</td>\n",
       "      <td>2.0</td>\n",
       "      <td>0.011998</td>\n",
       "      <td>0.055410</td>\n",
       "      <td>0.066942</td>\n",
       "      <td>43.2100</td>\n",
       "      <td>0.027188</td>\n",
       "    </tr>\n",
       "    <tr>\n",
       "      <th>BACR 1 02/16/29 Corp</th>\n",
       "      <td>5.113889</td>\n",
       "      <td>0.184426</td>\n",
       "      <td>0.040183</td>\n",
       "      <td>0.0000</td>\n",
       "      <td>0.00713</td>\n",
       "      <td>529.557237</td>\n",
       "      <td>0.01000</td>\n",
       "      <td>2.0</td>\n",
       "      <td>0.008691</td>\n",
       "      <td>1.509897</td>\n",
       "      <td>134.054204</td>\n",
       "      <td>411.2200</td>\n",
       "      <td>0.000012</td>\n",
       "    </tr>\n",
       "    <tr>\n",
       "      <th>LUV 1.25 05/01/25 Corp</th>\n",
       "      <td>5.077778</td>\n",
       "      <td>0.651594</td>\n",
       "      <td>0.005138</td>\n",
       "      <td>0.0000</td>\n",
       "      <td>0.01488</td>\n",
       "      <td>37.426831</td>\n",
       "      <td>0.01250</td>\n",
       "      <td>2.0</td>\n",
       "      <td>0.003282</td>\n",
       "      <td>0.100000</td>\n",
       "      <td>0.047106</td>\n",
       "      <td>30.9700</td>\n",
       "      <td>0.012709</td>\n",
       "    </tr>\n",
       "    <tr>\n",
       "      <th>NRG 2.75 06/01/48 Corp</th>\n",
       "      <td>28.827778</td>\n",
       "      <td>0.215077</td>\n",
       "      <td>0.022064</td>\n",
       "      <td>0.0253</td>\n",
       "      <td>0.00609</td>\n",
       "      <td>41.534621</td>\n",
       "      <td>0.02750</td>\n",
       "      <td>2.0</td>\n",
       "      <td>0.013779</td>\n",
       "      <td>0.140400</td>\n",
       "      <td>0.852273</td>\n",
       "      <td>38.8000</td>\n",
       "      <td>0.002971</td>\n",
       "    </tr>\n",
       "    <tr>\n",
       "      <th>SRENVX 3.25 06/13/24 Corp</th>\n",
       "      <td>3.761111</td>\n",
       "      <td>0.293252</td>\n",
       "      <td>0.002219</td>\n",
       "      <td>0.0268</td>\n",
       "      <td>0.00507</td>\n",
       "      <td>94.161001</td>\n",
       "      <td>0.03250</td>\n",
       "      <td>2.0</td>\n",
       "      <td>0.048006</td>\n",
       "      <td>0.092886</td>\n",
       "      <td>0.200653</td>\n",
       "      <td>69.7600</td>\n",
       "      <td>0.002578</td>\n",
       "    </tr>\n",
       "    <tr>\n",
       "      <th>LI 0.25 05/01/28 Corp</th>\n",
       "      <td>7.163889</td>\n",
       "      <td>0.645919</td>\n",
       "      <td>0.016514</td>\n",
       "      <td>0.0680</td>\n",
       "      <td>0.01045</td>\n",
       "      <td>28.343225</td>\n",
       "      <td>0.00250</td>\n",
       "      <td>2.0</td>\n",
       "      <td>0.010081</td>\n",
       "      <td>0.140400</td>\n",
       "      <td>0.094495</td>\n",
       "      <td>22.7600</td>\n",
       "      <td>0.005764</td>\n",
       "    </tr>\n",
       "    <tr>\n",
       "      <th>IHFLIN 4.5 09/28/26 Corp</th>\n",
       "      <td>5.066667</td>\n",
       "      <td>0.747843</td>\n",
       "      <td>0.013087</td>\n",
       "      <td>0.0000</td>\n",
       "      <td>0.01294</td>\n",
       "      <td>240.580000</td>\n",
       "      <td>0.04500</td>\n",
       "      <td>2.0</td>\n",
       "      <td>0.098136</td>\n",
       "      <td>0.030703</td>\n",
       "      <td>0.003371</td>\n",
       "      <td>206.4900</td>\n",
       "      <td>1.364003</td>\n",
       "    </tr>\n",
       "    <tr>\n",
       "      <th>BKNG 0.75 05/01/25 Corp</th>\n",
       "      <td>5.133333</td>\n",
       "      <td>0.590337</td>\n",
       "      <td>0.005873</td>\n",
       "      <td>0.0151</td>\n",
       "      <td>0.01042</td>\n",
       "      <td>1881.467545</td>\n",
       "      <td>0.00750</td>\n",
       "      <td>2.0</td>\n",
       "      <td>0.014069</td>\n",
       "      <td>1.509897</td>\n",
       "      <td>13.083524</td>\n",
       "      <td>1420.6400</td>\n",
       "      <td>0.000015</td>\n",
       "    </tr>\n",
       "    <tr>\n",
       "      <th>ZTO 1.5 09/01/27 Corp</th>\n",
       "      <td>5.091667</td>\n",
       "      <td>0.380758</td>\n",
       "      <td>0.031118</td>\n",
       "      <td>0.1336</td>\n",
       "      <td>0.01595</td>\n",
       "      <td>31.209136</td>\n",
       "      <td>0.01500</td>\n",
       "      <td>2.0</td>\n",
       "      <td>0.004364</td>\n",
       "      <td>0.041246</td>\n",
       "      <td>0.023469</td>\n",
       "      <td>25.2400</td>\n",
       "      <td>0.090533</td>\n",
       "    </tr>\n",
       "    <tr>\n",
       "      <th>AYX 1 08/01/26 Corp</th>\n",
       "      <td>6.675000</td>\n",
       "      <td>0.468513</td>\n",
       "      <td>0.016895</td>\n",
       "      <td>0.0171</td>\n",
       "      <td>0.00962</td>\n",
       "      <td>189.361662</td>\n",
       "      <td>0.01000</td>\n",
       "      <td>2.0</td>\n",
       "      <td>0.012484</td>\n",
       "      <td>0.006054</td>\n",
       "      <td>0.000334</td>\n",
       "      <td>105.0000</td>\n",
       "      <td>77.809689</td>\n",
       "    </tr>\n",
       "    <tr>\n",
       "      <th>TWO 6.25 01/15/26 Corp</th>\n",
       "      <td>5.033333</td>\n",
       "      <td>0.461677</td>\n",
       "      <td>0.007843</td>\n",
       "      <td>0.0000</td>\n",
       "      <td>0.01088</td>\n",
       "      <td>29.520077</td>\n",
       "      <td>0.06250</td>\n",
       "      <td>2.0</td>\n",
       "      <td>0.092163</td>\n",
       "      <td>0.026490</td>\n",
       "      <td>0.006584</td>\n",
       "      <td>24.2800</td>\n",
       "      <td>0.518657</td>\n",
       "    </tr>\n",
       "    <tr>\n",
       "      <th>AKAM 0.125 05/01/25 Corp</th>\n",
       "      <td>5.405556</td>\n",
       "      <td>0.205616</td>\n",
       "      <td>0.017657</td>\n",
       "      <td>0.0000</td>\n",
       "      <td>0.00443</td>\n",
       "      <td>95.102235</td>\n",
       "      <td>0.00125</td>\n",
       "      <td>2.0</td>\n",
       "      <td>0.058068</td>\n",
       "      <td>0.010926</td>\n",
       "      <td>0.005647</td>\n",
       "      <td>87.6400</td>\n",
       "      <td>1.802815</td>\n",
       "    </tr>\n",
       "    <tr>\n",
       "      <th>DUK 4.125 04/15/26 Corp</th>\n",
       "      <td>3.075000</td>\n",
       "      <td>0.195190</td>\n",
       "      <td>0.033979</td>\n",
       "      <td>0.0000</td>\n",
       "      <td>0.00852</td>\n",
       "      <td>118.862251</td>\n",
       "      <td>0.04125</td>\n",
       "      <td>2.0</td>\n",
       "      <td>0.012647</td>\n",
       "      <td>0.010926</td>\n",
       "      <td>0.006267</td>\n",
       "      <td>96.2300</td>\n",
       "      <td>0.939145</td>\n",
       "    </tr>\n",
       "    <tr>\n",
       "      <th>EXAS 0.375 03/01/28 Corp</th>\n",
       "      <td>8.130556</td>\n",
       "      <td>0.525920</td>\n",
       "      <td>0.012999</td>\n",
       "      <td>0.0432</td>\n",
       "      <td>0.00866</td>\n",
       "      <td>121.838296</td>\n",
       "      <td>0.00375</td>\n",
       "      <td>2.0</td>\n",
       "      <td>0.003075</td>\n",
       "      <td>0.041246</td>\n",
       "      <td>0.012302</td>\n",
       "      <td>86.5350</td>\n",
       "      <td>0.326811</td>\n",
       "    </tr>\n",
       "    <tr>\n",
       "      <th>EVRG 4.5 12/15/27 Corp</th>\n",
       "      <td>4.086111</td>\n",
       "      <td>0.249531</td>\n",
       "      <td>0.042432</td>\n",
       "      <td>0.0000</td>\n",
       "      <td>0.00866</td>\n",
       "      <td>61.801260</td>\n",
       "      <td>0.04500</td>\n",
       "      <td>2.0</td>\n",
       "      <td>0.008838</td>\n",
       "      <td>0.035586</td>\n",
       "      <td>0.040677</td>\n",
       "      <td>51.2100</td>\n",
       "      <td>0.035723</td>\n",
       "    </tr>\n",
       "    <tr>\n",
       "      <th>BBIO 2.5 03/15/27 Corp</th>\n",
       "      <td>7.127778</td>\n",
       "      <td>0.947405</td>\n",
       "      <td>0.009153</td>\n",
       "      <td>0.0000</td>\n",
       "      <td>0.01173</td>\n",
       "      <td>42.707484</td>\n",
       "      <td>0.02500</td>\n",
       "      <td>2.0</td>\n",
       "      <td>0.005456</td>\n",
       "      <td>0.010926</td>\n",
       "      <td>0.000266</td>\n",
       "      <td>29.9900</td>\n",
       "      <td>46.401415</td>\n",
       "    </tr>\n",
       "    <tr>\n",
       "      <th>AYX 0.5 08/01/24 Corp</th>\n",
       "      <td>4.647222</td>\n",
       "      <td>0.468513</td>\n",
       "      <td>0.016041</td>\n",
       "      <td>0.0000</td>\n",
       "      <td>0.00962</td>\n",
       "      <td>189.361662</td>\n",
       "      <td>0.00500</td>\n",
       "      <td>2.0</td>\n",
       "      <td>0.017932</td>\n",
       "      <td>0.028519</td>\n",
       "      <td>0.007410</td>\n",
       "      <td>105.0000</td>\n",
       "      <td>0.523618</td>\n",
       "    </tr>\n",
       "    <tr>\n",
       "      <th>AWK 3.625 06/15/26 Corp</th>\n",
       "      <td>3.011111</td>\n",
       "      <td>0.189689</td>\n",
       "      <td>0.040220</td>\n",
       "      <td>0.0000</td>\n",
       "      <td>0.00454</td>\n",
       "      <td>171.782935</td>\n",
       "      <td>0.03625</td>\n",
       "      <td>2.0</td>\n",
       "      <td>0.157749</td>\n",
       "      <td>0.009427</td>\n",
       "      <td>0.004939</td>\n",
       "      <td>142.8800</td>\n",
       "      <td>1.582947</td>\n",
       "    </tr>\n",
       "    <tr>\n",
       "      <th>HTHT 3 05/01/26 Corp</th>\n",
       "      <td>6.066667</td>\n",
       "      <td>0.538078</td>\n",
       "      <td>0.004233</td>\n",
       "      <td>0.0942</td>\n",
       "      <td>0.01907</td>\n",
       "      <td>40.346333</td>\n",
       "      <td>0.03000</td>\n",
       "      <td>2.0</td>\n",
       "      <td>0.081044</td>\n",
       "      <td>0.055410</td>\n",
       "      <td>0.021209</td>\n",
       "      <td>33.2100</td>\n",
       "      <td>0.099066</td>\n",
       "    </tr>\n",
       "    <tr>\n",
       "      <th>JPM 0.5 06/15/27 Corp</th>\n",
       "      <td>5.011111</td>\n",
       "      <td>0.530766</td>\n",
       "      <td>0.030699</td>\n",
       "      <td>0.0000</td>\n",
       "      <td>0.00827</td>\n",
       "      <td>208.971567</td>\n",
       "      <td>0.00500</td>\n",
       "      <td>2.0</td>\n",
       "      <td>0.089246</td>\n",
       "      <td>0.010926</td>\n",
       "      <td>0.000848</td>\n",
       "      <td>139.9700</td>\n",
       "      <td>12.746683</td>\n",
       "    </tr>\n",
       "    <tr>\n",
       "      <th>AKAM 0.375 09/01/27 Corp</th>\n",
       "      <td>7.775000</td>\n",
       "      <td>0.205616</td>\n",
       "      <td>0.018568</td>\n",
       "      <td>0.0435</td>\n",
       "      <td>0.00443</td>\n",
       "      <td>116.180451</td>\n",
       "      <td>0.00375</td>\n",
       "      <td>2.0</td>\n",
       "      <td>0.021079</td>\n",
       "      <td>0.030703</td>\n",
       "      <td>0.044594</td>\n",
       "      <td>87.6400</td>\n",
       "      <td>0.148752</td>\n",
       "    </tr>\n",
       "    <tr>\n",
       "      <th>BMRN 0.599 08/01/24 Corp</th>\n",
       "      <td>4.647222</td>\n",
       "      <td>0.328077</td>\n",
       "      <td>0.016041</td>\n",
       "      <td>0.0000</td>\n",
       "      <td>0.00417</td>\n",
       "      <td>124.669625</td>\n",
       "      <td>0.00599</td>\n",
       "      <td>2.0</td>\n",
       "      <td>0.011955</td>\n",
       "      <td>0.059654</td>\n",
       "      <td>0.066124</td>\n",
       "      <td>84.0400</td>\n",
       "      <td>0.016649</td>\n",
       "    </tr>\n",
       "    <tr>\n",
       "      <th>ETSY 0.125 10/01/26 Corp</th>\n",
       "      <td>6.833333</td>\n",
       "      <td>0.394316</td>\n",
       "      <td>0.016192</td>\n",
       "      <td>0.0000</td>\n",
       "      <td>0.01082</td>\n",
       "      <td>87.688530</td>\n",
       "      <td>0.00125</td>\n",
       "      <td>2.0</td>\n",
       "      <td>0.034959</td>\n",
       "      <td>0.080139</td>\n",
       "      <td>0.082610</td>\n",
       "      <td>44.8350</td>\n",
       "      <td>0.014504</td>\n",
       "    </tr>\n",
       "    <tr>\n",
       "      <th>ZD 1.75 11/01/26 Corp</th>\n",
       "      <td>6.927778</td>\n",
       "      <td>0.217741</td>\n",
       "      <td>0.015943</td>\n",
       "      <td>0.0718</td>\n",
       "      <td>0.00491</td>\n",
       "      <td>106.629136</td>\n",
       "      <td>0.01750</td>\n",
       "      <td>2.0</td>\n",
       "      <td>0.047715</td>\n",
       "      <td>0.030703</td>\n",
       "      <td>0.039766</td>\n",
       "      <td>83.0630</td>\n",
       "      <td>0.147699</td>\n",
       "    </tr>\n",
       "    <tr>\n",
       "      <th>NEP 2.5 06/15/26 Corp</th>\n",
       "      <td>3.569444</td>\n",
       "      <td>0.353863</td>\n",
       "      <td>0.038040</td>\n",
       "      <td>0.0059</td>\n",
       "      <td>0.01473</td>\n",
       "      <td>94.931602</td>\n",
       "      <td>0.02500</td>\n",
       "      <td>2.0</td>\n",
       "      <td>0.007004</td>\n",
       "      <td>0.064223</td>\n",
       "      <td>0.065879</td>\n",
       "      <td>75.8100</td>\n",
       "      <td>0.045313</td>\n",
       "    </tr>\n",
       "    <tr>\n",
       "      <th>AKAM 1.125 02/15/29 Corp</th>\n",
       "      <td>5.583333</td>\n",
       "      <td>0.258687</td>\n",
       "      <td>0.043846</td>\n",
       "      <td>0.1200</td>\n",
       "      <td>0.00503</td>\n",
       "      <td>126.310471</td>\n",
       "      <td>0.01125</td>\n",
       "      <td>2.0</td>\n",
       "      <td>0.001493</td>\n",
       "      <td>0.006518</td>\n",
       "      <td>0.001270</td>\n",
       "      <td>101.6800</td>\n",
       "      <td>14.703690</td>\n",
       "    </tr>\n",
       "    <tr>\n",
       "      <th>IHFLIN 4.5 03/04/26 Corp</th>\n",
       "      <td>5.094444</td>\n",
       "      <td>0.810846</td>\n",
       "      <td>0.010011</td>\n",
       "      <td>0.0000</td>\n",
       "      <td>0.01656</td>\n",
       "      <td>230.140000</td>\n",
       "      <td>0.04500</td>\n",
       "      <td>2.0</td>\n",
       "      <td>0.006543</td>\n",
       "      <td>0.008133</td>\n",
       "      <td>0.000201</td>\n",
       "      <td>193.8300</td>\n",
       "      <td>55.507782</td>\n",
       "    </tr>\n",
       "    <tr>\n",
       "      <th>VTR 3.75 06/01/26 Corp</th>\n",
       "      <td>3.022222</td>\n",
       "      <td>0.260963</td>\n",
       "      <td>0.039234</td>\n",
       "      <td>0.0000</td>\n",
       "      <td>0.01414</td>\n",
       "      <td>54.806533</td>\n",
       "      <td>0.03750</td>\n",
       "      <td>2.0</td>\n",
       "      <td>0.160846</td>\n",
       "      <td>0.276761</td>\n",
       "      <td>2.249483</td>\n",
       "      <td>45.7200</td>\n",
       "      <td>0.000045</td>\n",
       "    </tr>\n",
       "    <tr>\n",
       "      <th>QGEN 1 11/13/24 Corp</th>\n",
       "      <td>4.933333</td>\n",
       "      <td>0.640948</td>\n",
       "      <td>0.015417</td>\n",
       "      <td>0.1114</td>\n",
       "      <td>0.00760</td>\n",
       "      <td>45.904692</td>\n",
       "      <td>0.01000</td>\n",
       "      <td>2.0</td>\n",
       "      <td>0.070383</td>\n",
       "      <td>0.041246</td>\n",
       "      <td>0.008282</td>\n",
       "      <td>35.0103</td>\n",
       "      <td>0.237068</td>\n",
       "    </tr>\n",
       "    <tr>\n",
       "      <th>PRFT 0.125 11/15/26 Corp</th>\n",
       "      <td>5.100000</td>\n",
       "      <td>0.385009</td>\n",
       "      <td>0.012870</td>\n",
       "      <td>0.0849</td>\n",
       "      <td>0.00334</td>\n",
       "      <td>191.938580</td>\n",
       "      <td>0.00125</td>\n",
       "      <td>2.0</td>\n",
       "      <td>0.005991</td>\n",
       "      <td>0.044405</td>\n",
       "      <td>0.026605</td>\n",
       "      <td>148.2400</td>\n",
       "      <td>0.100508</td>\n",
       "    </tr>\n",
       "    <tr>\n",
       "      <th>KAMN 3.25 05/01/24 Corp</th>\n",
       "      <td>4.391667</td>\n",
       "      <td>0.203804</td>\n",
       "      <td>0.016143</td>\n",
       "      <td>0.0000</td>\n",
       "      <td>0.00305</td>\n",
       "      <td>65.262650</td>\n",
       "      <td>0.03250</td>\n",
       "      <td>2.0</td>\n",
       "      <td>0.068311</td>\n",
       "      <td>0.026490</td>\n",
       "      <td>0.033788</td>\n",
       "      <td>65.6400</td>\n",
       "      <td>0.098675</td>\n",
       "    </tr>\n",
       "    <tr>\n",
       "      <th>GTLS 1 11/15/24 Corp</th>\n",
       "      <td>4.941667</td>\n",
       "      <td>0.275284</td>\n",
       "      <td>0.015923</td>\n",
       "      <td>0.0175</td>\n",
       "      <td>0.00901</td>\n",
       "      <td>58.725079</td>\n",
       "      <td>0.01000</td>\n",
       "      <td>2.0</td>\n",
       "      <td>0.069140</td>\n",
       "      <td>0.059654</td>\n",
       "      <td>0.093918</td>\n",
       "      <td>68.8000</td>\n",
       "      <td>0.010957</td>\n",
       "    </tr>\n",
       "    <tr>\n",
       "      <th>YY 1.375 06/15/26 Corp</th>\n",
       "      <td>6.544444</td>\n",
       "      <td>0.410670</td>\n",
       "      <td>0.016973</td>\n",
       "      <td>0.0100</td>\n",
       "      <td>0.00990</td>\n",
       "      <td>83.167691</td>\n",
       "      <td>0.01375</td>\n",
       "      <td>2.0</td>\n",
       "      <td>0.068761</td>\n",
       "      <td>0.074438</td>\n",
       "      <td>0.065710</td>\n",
       "      <td>58.8200</td>\n",
       "      <td>0.017444</td>\n",
       "    </tr>\n",
       "    <tr>\n",
       "      <th>WGO 1.5 04/01/25 Corp</th>\n",
       "      <td>5.322222</td>\n",
       "      <td>0.353178</td>\n",
       "      <td>0.017707</td>\n",
       "      <td>0.0000</td>\n",
       "      <td>0.01168</td>\n",
       "      <td>62.530093</td>\n",
       "      <td>0.01500</td>\n",
       "      <td>2.0</td>\n",
       "      <td>0.046973</td>\n",
       "      <td>1.509897</td>\n",
       "      <td>36.554214</td>\n",
       "      <td>52.8000</td>\n",
       "      <td>0.000007</td>\n",
       "    </tr>\n",
       "    <tr>\n",
       "      <th>ENOV 3.875 10/15/28 Corp</th>\n",
       "      <td>5.061111</td>\n",
       "      <td>0.401490</td>\n",
       "      <td>0.049279</td>\n",
       "      <td>0.1036</td>\n",
       "      <td>0.00763</td>\n",
       "      <td>58.317879</td>\n",
       "      <td>0.03875</td>\n",
       "      <td>2.0</td>\n",
       "      <td>0.097695</td>\n",
       "      <td>0.051468</td>\n",
       "      <td>0.032867</td>\n",
       "      <td>44.4700</td>\n",
       "      <td>0.037737</td>\n",
       "    </tr>\n",
       "    <tr>\n",
       "      <th>ATSG 1.125 10/15/24 Corp</th>\n",
       "      <td>4.855556</td>\n",
       "      <td>0.323419</td>\n",
       "      <td>0.015958</td>\n",
       "      <td>0.0332</td>\n",
       "      <td>0.01048</td>\n",
       "      <td>31.900471</td>\n",
       "      <td>0.01125</td>\n",
       "      <td>2.0</td>\n",
       "      <td>0.053204</td>\n",
       "      <td>0.026490</td>\n",
       "      <td>0.013417</td>\n",
       "      <td>23.4600</td>\n",
       "      <td>0.217638</td>\n",
       "    </tr>\n",
       "    <tr>\n",
       "      <th>VSH 2.25 06/15/25 Corp</th>\n",
       "      <td>5.530556</td>\n",
       "      <td>0.289297</td>\n",
       "      <td>0.017582</td>\n",
       "      <td>0.1817</td>\n",
       "      <td>0.00739</td>\n",
       "      <td>31.106521</td>\n",
       "      <td>0.02250</td>\n",
       "      <td>2.0</td>\n",
       "      <td>0.078855</td>\n",
       "      <td>0.038312</td>\n",
       "      <td>0.035076</td>\n",
       "      <td>21.4900</td>\n",
       "      <td>0.078568</td>\n",
       "    </tr>\n",
       "    <tr>\n",
       "      <th>AY 4 07/15/25 Corp</th>\n",
       "      <td>5.066667</td>\n",
       "      <td>0.427264</td>\n",
       "      <td>0.004640</td>\n",
       "      <td>0.0182</td>\n",
       "      <td>0.00940</td>\n",
       "      <td>34.355997</td>\n",
       "      <td>0.04000</td>\n",
       "      <td>2.0</td>\n",
       "      <td>0.001096</td>\n",
       "      <td>0.051468</td>\n",
       "      <td>0.029021</td>\n",
       "      <td>29.3200</td>\n",
       "      <td>0.074732</td>\n",
       "    </tr>\n",
       "    <tr>\n",
       "      <th>LNT 3.875 03/15/26 Corp</th>\n",
       "      <td>3.086111</td>\n",
       "      <td>0.235034</td>\n",
       "      <td>0.041942</td>\n",
       "      <td>0.0980</td>\n",
       "      <td>0.00896</td>\n",
       "      <td>64.324815</td>\n",
       "      <td>0.03875</td>\n",
       "      <td>2.0</td>\n",
       "      <td>0.017102</td>\n",
       "      <td>0.276761</td>\n",
       "      <td>2.773187</td>\n",
       "      <td>51.2700</td>\n",
       "      <td>0.000047</td>\n",
       "    </tr>\n",
       "    <tr>\n",
       "      <th>CNP 4.25 08/15/26 Corp</th>\n",
       "      <td>3.080556</td>\n",
       "      <td>0.204625</td>\n",
       "      <td>0.042521</td>\n",
       "      <td>0.0396</td>\n",
       "      <td>0.00606</td>\n",
       "      <td>36.862554</td>\n",
       "      <td>0.04250</td>\n",
       "      <td>2.0</td>\n",
       "      <td>0.015329</td>\n",
       "      <td>0.460424</td>\n",
       "      <td>10.125778</td>\n",
       "      <td>29.7400</td>\n",
       "      <td>0.000024</td>\n",
       "    </tr>\n",
       "  </tbody>\n",
       "</table>\n",
       "</div>"
      ],
      "text/plain": [
       "                           TTM(Year)        IV         r       d  CDS/10000  \\\n",
       "TEVA 0 ¼ 02/01/26 Corp      6.172222  0.492886  0.017197  0.0287    0.01324   \n",
       "CMCSA 2 10/15/29 Corp       9.927778  0.193723  0.017922  0.0010    0.00491   \n",
       "DISH 2 ⅜ 03/15/24 Corp      4.261111  0.302869  0.016196  0.0276    0.01192   \n",
       "DISH 2 ⅜ 08/15/24 Corp      6.713889  0.302869  0.016872  0.0000    0.01192   \n",
       "SRENVX 3 ¼ 06/13/24 Corp    3.761111  0.293252  0.002219  0.0000    0.00507   \n",
       "FE 4 05/01/26 Corp          3.041667  0.223188  0.034644  0.0000    0.00883   \n",
       "MS 2 ½ 11/06/26 Corp        3.044444  0.165019  0.046027  0.0223    0.01704   \n",
       "RCL 6 08/15/25 Corp         3.077778  0.694218  0.028670  0.0024    0.05716   \n",
       "LUV 1 ¼ 05/01/25 Corp       5.077778  0.651594  0.005138  0.0000    0.01488   \n",
       "VTR 3 ¾ 06/01/26 Corp       3.022222  0.260963  0.039234  0.0000    0.01414   \n",
       "WFC 0 ¼ 11/01/24 Corp       4.888889  0.209632  0.015539  0.0419    0.00497   \n",
       "SO 3.875 12/15/25 Corp      1.808333  0.155931  0.049091  0.0247    0.00456   \n",
       "NEE 3 03/01/27 Corp         3.047222  0.278322  0.042642  0.0406    0.00820   \n",
       "DISH 3.375 08/15/26 Corp    6.713889  0.302869  0.016872  0.0331    0.01192   \n",
       "BACR 1 02/16/29 Corp        5.113889  0.184426  0.040183  0.0000    0.00713   \n",
       "LUV 1.25 05/01/25 Corp      5.077778  0.651594  0.005138  0.0000    0.01488   \n",
       "NRG 2.75 06/01/48 Corp     28.827778  0.215077  0.022064  0.0253    0.00609   \n",
       "SRENVX 3.25 06/13/24 Corp   3.761111  0.293252  0.002219  0.0268    0.00507   \n",
       "LI 0.25 05/01/28 Corp       7.163889  0.645919  0.016514  0.0680    0.01045   \n",
       "IHFLIN 4.5 09/28/26 Corp    5.066667  0.747843  0.013087  0.0000    0.01294   \n",
       "BKNG 0.75 05/01/25 Corp     5.133333  0.590337  0.005873  0.0151    0.01042   \n",
       "ZTO 1.5 09/01/27 Corp       5.091667  0.380758  0.031118  0.1336    0.01595   \n",
       "AYX 1 08/01/26 Corp         6.675000  0.468513  0.016895  0.0171    0.00962   \n",
       "TWO 6.25 01/15/26 Corp      5.033333  0.461677  0.007843  0.0000    0.01088   \n",
       "AKAM 0.125 05/01/25 Corp    5.405556  0.205616  0.017657  0.0000    0.00443   \n",
       "DUK 4.125 04/15/26 Corp     3.075000  0.195190  0.033979  0.0000    0.00852   \n",
       "EXAS 0.375 03/01/28 Corp    8.130556  0.525920  0.012999  0.0432    0.00866   \n",
       "EVRG 4.5 12/15/27 Corp      4.086111  0.249531  0.042432  0.0000    0.00866   \n",
       "BBIO 2.5 03/15/27 Corp      7.127778  0.947405  0.009153  0.0000    0.01173   \n",
       "AYX 0.5 08/01/24 Corp       4.647222  0.468513  0.016041  0.0000    0.00962   \n",
       "AWK 3.625 06/15/26 Corp     3.011111  0.189689  0.040220  0.0000    0.00454   \n",
       "HTHT 3 05/01/26 Corp        6.066667  0.538078  0.004233  0.0942    0.01907   \n",
       "JPM 0.5 06/15/27 Corp       5.011111  0.530766  0.030699  0.0000    0.00827   \n",
       "AKAM 0.375 09/01/27 Corp    7.775000  0.205616  0.018568  0.0435    0.00443   \n",
       "BMRN 0.599 08/01/24 Corp    4.647222  0.328077  0.016041  0.0000    0.00417   \n",
       "ETSY 0.125 10/01/26 Corp    6.833333  0.394316  0.016192  0.0000    0.01082   \n",
       "ZD 1.75 11/01/26 Corp       6.927778  0.217741  0.015943  0.0718    0.00491   \n",
       "NEP 2.5 06/15/26 Corp       3.569444  0.353863  0.038040  0.0059    0.01473   \n",
       "AKAM 1.125 02/15/29 Corp    5.583333  0.258687  0.043846  0.1200    0.00503   \n",
       "IHFLIN 4.5 03/04/26 Corp    5.094444  0.810846  0.010011  0.0000    0.01656   \n",
       "VTR 3.75 06/01/26 Corp      3.022222  0.260963  0.039234  0.0000    0.01414   \n",
       "QGEN 1 11/13/24 Corp        4.933333  0.640948  0.015417  0.1114    0.00760   \n",
       "PRFT 0.125 11/15/26 Corp    5.100000  0.385009  0.012870  0.0849    0.00334   \n",
       "KAMN 3.25 05/01/24 Corp     4.391667  0.203804  0.016143  0.0000    0.00305   \n",
       "GTLS 1 11/15/24 Corp        4.941667  0.275284  0.015923  0.0175    0.00901   \n",
       "YY 1.375 06/15/26 Corp      6.544444  0.410670  0.016973  0.0100    0.00990   \n",
       "WGO 1.5 04/01/25 Corp       5.322222  0.353178  0.017707  0.0000    0.01168   \n",
       "ENOV 3.875 10/15/28 Corp    5.061111  0.401490  0.049279  0.1036    0.00763   \n",
       "ATSG 1.125 10/15/24 Corp    4.855556  0.323419  0.015958  0.0332    0.01048   \n",
       "VSH 2.25 06/15/25 Corp      5.530556  0.289297  0.017582  0.1817    0.00739   \n",
       "AY 4 07/15/25 Corp          5.066667  0.427264  0.004640  0.0182    0.00940   \n",
       "LNT 3.875 03/15/26 Corp     3.086111  0.235034  0.041942  0.0980    0.00896   \n",
       "CNP 4.25 08/15/26 Corp      3.080556  0.204625  0.042521  0.0396    0.00606   \n",
       "\n",
       "                           Conversion Price   Coupon  Coupon Frequency  \\\n",
       "TEVA 0 ¼ 02/01/26 Corp            39.784052  0.00250               2.0   \n",
       "CMCSA 2 10/15/29 Corp             71.520000  0.02000               4.0   \n",
       "DISH 2 ⅜ 03/15/24 Corp           234.318251  0.02375               2.0   \n",
       "DISH 2 ⅜ 08/15/24 Corp           185.752763  0.03375               2.0   \n",
       "SRENVX 3 ¼ 06/13/24 Corp          94.161001  0.03250               2.0   \n",
       "FE 4 05/01/26 Corp                46.812096  0.04000               2.0   \n",
       "MS 2 ½ 11/06/26 Corp              97.195993  0.02500               2.0   \n",
       "RCL 6 08/15/25 Corp               50.105974  0.06000               2.0   \n",
       "LUV 1 ¼ 05/01/25 Corp             37.426831  0.01250               2.0   \n",
       "VTR 3 ¾ 06/01/26 Corp             54.806533  0.03750               2.0   \n",
       "WFC 0 ¼ 11/01/24 Corp             74.748918  0.00250               2.0   \n",
       "SO 3.875 12/15/25 Corp            84.162332  0.03875               2.0   \n",
       "NEE 3 03/01/27 Corp               68.061010  0.03000               2.0   \n",
       "DISH 3.375 08/15/26 Corp         185.752763  0.03375               2.0   \n",
       "BACR 1 02/16/29 Corp             529.557237  0.01000               2.0   \n",
       "LUV 1.25 05/01/25 Corp            37.426831  0.01250               2.0   \n",
       "NRG 2.75 06/01/48 Corp            41.534621  0.02750               2.0   \n",
       "SRENVX 3.25 06/13/24 Corp         94.161001  0.03250               2.0   \n",
       "LI 0.25 05/01/28 Corp             28.343225  0.00250               2.0   \n",
       "IHFLIN 4.5 09/28/26 Corp         240.580000  0.04500               2.0   \n",
       "BKNG 0.75 05/01/25 Corp         1881.467545  0.00750               2.0   \n",
       "ZTO 1.5 09/01/27 Corp             31.209136  0.01500               2.0   \n",
       "AYX 1 08/01/26 Corp              189.361662  0.01000               2.0   \n",
       "TWO 6.25 01/15/26 Corp            29.520077  0.06250               2.0   \n",
       "AKAM 0.125 05/01/25 Corp          95.102235  0.00125               2.0   \n",
       "DUK 4.125 04/15/26 Corp          118.862251  0.04125               2.0   \n",
       "EXAS 0.375 03/01/28 Corp         121.838296  0.00375               2.0   \n",
       "EVRG 4.5 12/15/27 Corp            61.801260  0.04500               2.0   \n",
       "BBIO 2.5 03/15/27 Corp            42.707484  0.02500               2.0   \n",
       "AYX 0.5 08/01/24 Corp            189.361662  0.00500               2.0   \n",
       "AWK 3.625 06/15/26 Corp          171.782935  0.03625               2.0   \n",
       "HTHT 3 05/01/26 Corp              40.346333  0.03000               2.0   \n",
       "JPM 0.5 06/15/27 Corp            208.971567  0.00500               2.0   \n",
       "AKAM 0.375 09/01/27 Corp         116.180451  0.00375               2.0   \n",
       "BMRN 0.599 08/01/24 Corp         124.669625  0.00599               2.0   \n",
       "ETSY 0.125 10/01/26 Corp          87.688530  0.00125               2.0   \n",
       "ZD 1.75 11/01/26 Corp            106.629136  0.01750               2.0   \n",
       "NEP 2.5 06/15/26 Corp             94.931602  0.02500               2.0   \n",
       "AKAM 1.125 02/15/29 Corp         126.310471  0.01125               2.0   \n",
       "IHFLIN 4.5 03/04/26 Corp         230.140000  0.04500               2.0   \n",
       "VTR 3.75 06/01/26 Corp            54.806533  0.03750               2.0   \n",
       "QGEN 1 11/13/24 Corp              45.904692  0.01000               2.0   \n",
       "PRFT 0.125 11/15/26 Corp         191.938580  0.00125               2.0   \n",
       "KAMN 3.25 05/01/24 Corp           65.262650  0.03250               2.0   \n",
       "GTLS 1 11/15/24 Corp              58.725079  0.01000               2.0   \n",
       "YY 1.375 06/15/26 Corp            83.167691  0.01375               2.0   \n",
       "WGO 1.5 04/01/25 Corp             62.530093  0.01500               2.0   \n",
       "ENOV 3.875 10/15/28 Corp          58.317879  0.03875               2.0   \n",
       "ATSG 1.125 10/15/24 Corp          31.900471  0.01125               2.0   \n",
       "VSH 2.25 06/15/25 Corp            31.106521  0.02250               2.0   \n",
       "AY 4 07/15/25 Corp                34.355997  0.04000               2.0   \n",
       "LNT 3.875 03/15/26 Corp           64.324815  0.03875               2.0   \n",
       "CNP 4.25 08/15/26 Corp            36.862554  0.04250               2.0   \n",
       "\n",
       "                                CPT        dx          dt          S  \\\n",
       "TEVA 0 ¼ 02/01/26 Corp     0.062106  0.014678    0.001774     9.5600   \n",
       "CMCSA 2 10/15/29 Corp      0.024622  0.022855    0.027837    45.3700   \n",
       "DISH 2 ⅜ 03/15/24 Corp     0.039765  0.388574    3.292060    43.2100   \n",
       "DISH 2 ⅜ 08/15/24 Corp     0.011998  0.055410    0.066942    43.2100   \n",
       "SRENVX 3 ¼ 06/13/24 Corp   0.048006  0.033055    0.025410    69.7600   \n",
       "FE 4 05/01/26 Corp         0.002740  0.041246    0.068306    38.7500   \n",
       "MS 2 ½ 11/06/26 Corp       0.001825  0.035586    0.093009    82.4000   \n",
       "RCL 6 08/15/25 Corp        0.014440  0.140400    0.081804    38.8400   \n",
       "LUV 1 ¼ 05/01/25 Corp      0.003282  0.100000    0.047106    30.9700   \n",
       "VTR 3 ¾ 06/01/26 Corp      0.160846  0.276761    2.249483    45.7200   \n",
       "WFC 0 ¼ 11/01/24 Corp      0.065341  0.074438    0.252176    63.9300   \n",
       "SO 3.875 12/15/25 Corp     0.149002  0.026490    0.057719    68.2000   \n",
       "NEE 3 03/01/27 Corp        0.005469  0.047807    0.059008    55.0400   \n",
       "DISH 3.375 08/15/26 Corp   0.011998  0.055410    0.066942    43.2100   \n",
       "BACR 1 02/16/29 Corp       0.008691  1.509897  134.054204   411.2200   \n",
       "LUV 1.25 05/01/25 Corp     0.003282  0.100000    0.047106    30.9700   \n",
       "NRG 2.75 06/01/48 Corp     0.013779  0.140400    0.852273    38.8000   \n",
       "SRENVX 3.25 06/13/24 Corp  0.048006  0.092886    0.200653    69.7600   \n",
       "LI 0.25 05/01/28 Corp      0.010081  0.140400    0.094495    22.7600   \n",
       "IHFLIN 4.5 09/28/26 Corp   0.098136  0.030703    0.003371   206.4900   \n",
       "BKNG 0.75 05/01/25 Corp    0.014069  1.509897   13.083524  1420.6400   \n",
       "ZTO 1.5 09/01/27 Corp      0.004364  0.041246    0.023469    25.2400   \n",
       "AYX 1 08/01/26 Corp        0.012484  0.006054    0.000334   105.0000   \n",
       "TWO 6.25 01/15/26 Corp     0.092163  0.026490    0.006584    24.2800   \n",
       "AKAM 0.125 05/01/25 Corp   0.058068  0.010926    0.005647    87.6400   \n",
       "DUK 4.125 04/15/26 Corp    0.012647  0.010926    0.006267    96.2300   \n",
       "EXAS 0.375 03/01/28 Corp   0.003075  0.041246    0.012302    86.5350   \n",
       "EVRG 4.5 12/15/27 Corp     0.008838  0.035586    0.040677    51.2100   \n",
       "BBIO 2.5 03/15/27 Corp     0.005456  0.010926    0.000266    29.9900   \n",
       "AYX 0.5 08/01/24 Corp      0.017932  0.028519    0.007410   105.0000   \n",
       "AWK 3.625 06/15/26 Corp    0.157749  0.009427    0.004939   142.8800   \n",
       "HTHT 3 05/01/26 Corp       0.081044  0.055410    0.021209    33.2100   \n",
       "JPM 0.5 06/15/27 Corp      0.089246  0.010926    0.000848   139.9700   \n",
       "AKAM 0.375 09/01/27 Corp   0.021079  0.030703    0.044594    87.6400   \n",
       "BMRN 0.599 08/01/24 Corp   0.011955  0.059654    0.066124    84.0400   \n",
       "ETSY 0.125 10/01/26 Corp   0.034959  0.080139    0.082610    44.8350   \n",
       "ZD 1.75 11/01/26 Corp      0.047715  0.030703    0.039766    83.0630   \n",
       "NEP 2.5 06/15/26 Corp      0.007004  0.064223    0.065879    75.8100   \n",
       "AKAM 1.125 02/15/29 Corp   0.001493  0.006518    0.001270   101.6800   \n",
       "IHFLIN 4.5 03/04/26 Corp   0.006543  0.008133    0.000201   193.8300   \n",
       "VTR 3.75 06/01/26 Corp     0.160846  0.276761    2.249483    45.7200   \n",
       "QGEN 1 11/13/24 Corp       0.070383  0.041246    0.008282    35.0103   \n",
       "PRFT 0.125 11/15/26 Corp   0.005991  0.044405    0.026605   148.2400   \n",
       "KAMN 3.25 05/01/24 Corp    0.068311  0.026490    0.033788    65.6400   \n",
       "GTLS 1 11/15/24 Corp       0.069140  0.059654    0.093918    68.8000   \n",
       "YY 1.375 06/15/26 Corp     0.068761  0.074438    0.065710    58.8200   \n",
       "WGO 1.5 04/01/25 Corp      0.046973  1.509897   36.554214    52.8000   \n",
       "ENOV 3.875 10/15/28 Corp   0.097695  0.051468    0.032867    44.4700   \n",
       "ATSG 1.125 10/15/24 Corp   0.053204  0.026490    0.013417    23.4600   \n",
       "VSH 2.25 06/15/25 Corp     0.078855  0.038312    0.035076    21.4900   \n",
       "AY 4 07/15/25 Corp         0.001096  0.051468    0.029021    29.3200   \n",
       "LNT 3.875 03/15/26 Corp    0.017102  0.276761    2.773187    51.2700   \n",
       "CNP 4.25 08/15/26 Corp     0.015329  0.460424   10.125778    29.7400   \n",
       "\n",
       "                           computation_time  \n",
       "TEVA 0 ¼ 02/01/26 Corp             4.278297  \n",
       "CMCSA 2 10/15/29 Corp              0.306492  \n",
       "DISH 2 ⅜ 03/15/24 Corp             0.000044  \n",
       "DISH 2 ⅜ 08/15/24 Corp             0.026829  \n",
       "SRENVX 3 ¼ 06/13/24 Corp           0.097074  \n",
       "FE 4 05/01/26 Corp                 0.012937  \n",
       "MS 2 ½ 11/06/26 Corp               0.054320  \n",
       "RCL 6 08/15/25 Corp                0.003240  \n",
       "LUV 1 ¼ 05/01/25 Corp              0.012276  \n",
       "VTR 3 ¾ 06/01/26 Corp              0.000045  \n",
       "WFC 0 ¼ 11/01/24 Corp              0.003422  \n",
       "SO 3.875 12/15/25 Corp             0.048987  \n",
       "NEE 3 03/01/27 Corp                0.014988  \n",
       "DISH 3.375 08/15/26 Corp           0.027188  \n",
       "BACR 1 02/16/29 Corp               0.000012  \n",
       "LUV 1.25 05/01/25 Corp             0.012709  \n",
       "NRG 2.75 06/01/48 Corp             0.002971  \n",
       "SRENVX 3.25 06/13/24 Corp          0.002578  \n",
       "LI 0.25 05/01/28 Corp              0.005764  \n",
       "IHFLIN 4.5 09/28/26 Corp           1.364003  \n",
       "BKNG 0.75 05/01/25 Corp            0.000015  \n",
       "ZTO 1.5 09/01/27 Corp              0.090533  \n",
       "AYX 1 08/01/26 Corp               77.809689  \n",
       "TWO 6.25 01/15/26 Corp             0.518657  \n",
       "AKAM 0.125 05/01/25 Corp           1.802815  \n",
       "DUK 4.125 04/15/26 Corp            0.939145  \n",
       "EXAS 0.375 03/01/28 Corp           0.326811  \n",
       "EVRG 4.5 12/15/27 Corp             0.035723  \n",
       "BBIO 2.5 03/15/27 Corp            46.401415  \n",
       "AYX 0.5 08/01/24 Corp              0.523618  \n",
       "AWK 3.625 06/15/26 Corp            1.582947  \n",
       "HTHT 3 05/01/26 Corp               0.099066  \n",
       "JPM 0.5 06/15/27 Corp             12.746683  \n",
       "AKAM 0.375 09/01/27 Corp           0.148752  \n",
       "BMRN 0.599 08/01/24 Corp           0.016649  \n",
       "ETSY 0.125 10/01/26 Corp           0.014504  \n",
       "ZD 1.75 11/01/26 Corp              0.147699  \n",
       "NEP 2.5 06/15/26 Corp              0.045313  \n",
       "AKAM 1.125 02/15/29 Corp          14.703690  \n",
       "IHFLIN 4.5 03/04/26 Corp          55.507782  \n",
       "VTR 3.75 06/01/26 Corp             0.000045  \n",
       "QGEN 1 11/13/24 Corp               0.237068  \n",
       "PRFT 0.125 11/15/26 Corp           0.100508  \n",
       "KAMN 3.25 05/01/24 Corp            0.098675  \n",
       "GTLS 1 11/15/24 Corp               0.010957  \n",
       "YY 1.375 06/15/26 Corp             0.017444  \n",
       "WGO 1.5 04/01/25 Corp              0.000007  \n",
       "ENOV 3.875 10/15/28 Corp           0.037737  \n",
       "ATSG 1.125 10/15/24 Corp           0.217638  \n",
       "VSH 2.25 06/15/25 Corp             0.078568  \n",
       "AY 4 07/15/25 Corp                 0.074732  \n",
       "LNT 3.875 03/15/26 Corp            0.000047  \n",
       "CNP 4.25 08/15/26 Corp             0.000024  "
      ]
     },
     "execution_count": 11,
     "metadata": {},
     "output_type": "execute_result"
    }
   ],
   "source": [
    "results = pd.DataFrame(bonds_converged_points).T\n",
    "results.to_excel('(bonds_converged_points.xlsx')\n",
    "results"
   ]
  },
  {
   "cell_type": "code",
   "execution_count": 13,
   "id": "cf657d33-5e89-4f38-9faf-d062bc511b46",
   "metadata": {},
   "outputs": [
    {
     "data": {
      "text/plain": [
       "53"
      ]
     },
     "execution_count": 13,
     "metadata": {},
     "output_type": "execute_result"
    }
   ],
   "source": [
    "len(bonds_converged_points)"
   ]
  },
  {
   "cell_type": "markdown",
   "id": "0d44ad2e-d285-4caf-8580-cae1a6c6935f",
   "metadata": {},
   "source": [
    "## Simulated Params"
   ]
  },
  {
   "cell_type": "code",
   "execution_count": 3,
   "id": "df67546f-7e40-49cc-a6ea-b0a241f5e190",
   "metadata": {},
   "outputs": [
    {
     "name": "stdout",
     "output_type": "stream",
     "text": [
      "Sample 1: {'Year': 22.543859698856313, 'v': 97.90891337092748, 'd': 0.02702915609802863, 'CDS': 933.2902025642894, 'Moneyness': 0.5385494686858932, 'Coupon': 0.020185261399068177, 'CPT': 0.6580676531486265}\n",
      "Sample 2: {'Year': 22.205073028580788, 'v': 169.37415984261665, 'd': 0.03522467169037926, 'CDS': 88.0840532846038, 'Moneyness': 1.2480276480273755, 'Coupon': 0.09839963255991002, 'CPT': 0.5130702226294991}\n",
      "Sample 3: {'Year': 26.992832449682716, 'v': 38.83295944094408, 'd': 0.11557745384933649, 'CDS': 721.2105406189868, 'Moneyness': 1.3568268757714885, 'Coupon': 0.03745152842493952, 'CPT': 0.8971950490997603}\n",
      "Sample 4: {'Year': 2.643458528248315, 'v': 26.389123881647095, 'd': 0.05267028539796388, 'CDS': 140.60148653939402, 'Moneyness': 0.43158529497648646, 'Coupon': 0.0360317415422986, 'CPT': 0.17797084656365736}\n",
      "Sample 5: {'Year': 18.648311169874695, 'v': 34.28020975358615, 'd': 0.06513918054996706, 'CDS': 954.2221006314346, 'Moneyness': 0.38158301946021966, 'Coupon': 0.060499665219334045, 'CPT': 0.6371852458108354}\n"
     ]
    }
   ],
   "source": [
    "import numpy as np\n",
    "\n",
    "def generate_uniform_samples(param_ranges, num_samples):\n",
    "    \"\"\"\n",
    "    在参数空间内生成均匀分布的随机点\n",
    "    \n",
    "    参数:\n",
    "    param_ranges: 字典，定义每个参数的范围和类型\n",
    "        - 连续参数: (min, max)\n",
    "        - 离散参数: [value1, value2, ...]\n",
    "        - 整数参数: (min, max, 'int')\n",
    "    num_samples: 要生成的样本数量\n",
    "    \n",
    "    返回:\n",
    "    包含所有参数组合的字典列表\n",
    "    \"\"\"\n",
    "    samples = []\n",
    "    for _ in range(num_samples):\n",
    "        sample = {}\n",
    "        for param, spec in param_ranges.items():\n",
    "            # 处理连续参数\n",
    "            if isinstance(spec, tuple) and len(spec) == 2:\n",
    "                sample[param] = np.random.uniform(spec[0], spec[1])\n",
    "            \n",
    "            # 处理整数参数\n",
    "            elif isinstance(spec, tuple) and len(spec) == 3 and spec[2] == 'int':\n",
    "                sample[param] = np.random.randint(spec[0], spec[1] + 1)\n",
    "            \n",
    "            # 处理离散参数\n",
    "            elif isinstance(spec, list):\n",
    "                sample[param] = np.random.choice(spec)\n",
    "        \n",
    "        samples.append(sample)\n",
    "    return samples\n",
    "\n",
    "param_ranges = {\n",
    "    'Year': (1, 30),   # 整数参数\n",
    "    'v': (10, 200),               # 连续参数\n",
    "    'd': (0.0, 0.2),              # 连续参数\n",
    "    'CDS': (10, 1000),           # 连续参数\n",
    "    'Moneyness': (0.1,1.5),\n",
    "    'Coupon': (0.0, 0.1),       # 连续参数\n",
    "    'CPT': (0, 1),                # 连续参数\n",
    "}\n",
    "\n",
    "# 生成100个均匀分布的样本点\n",
    "samples = generate_uniform_samples(param_ranges, num_samples=100)\n",
    "\n",
    "# 打印前5个样本\n",
    "for i, sample in enumerate(samples[:5]):\n",
    "    print(f\"Sample {i+1}: {sample}\")"
   ]
  },
  {
   "cell_type": "code",
   "execution_count": null,
   "id": "499a00ac-8fa3-4475-ac24-1457b0584fd3",
   "metadata": {
    "scrolled": true
   },
   "outputs": [
    {
     "name": "stdout",
     "output_type": "stream",
     "text": [
      "dx in our test: [2.51188643150958, 2.1199020238496082, 1.789087489923219, 1.5098971606184193, 1.2742749857031335, 1.0754220761125606, 0.907600521681814, 0.7659678234751834, 0.646437163249006, 0.5455594781168519, 0.4604239376758781, 0.38857395185709753, 0.32793628590208806, 0.2767612370754227, 0.23357214690901226, 0.19712279215176962, 0.16636142493842218, 0.1404004245548316, 0.11849068510006666, 0.1, 0.1, 0.0928856699709695, 0.08627747685955867, 0.0801394124150493, 0.07443803013251689, 0.06914226300178047, 0.06422325422229357, 0.05965419996153637, 0.05541020330009492, 0.05146813856756942, 0.047806525330073804, 0.04440541134268032, 0.04124626382901352, 0.03831186849557287, 0.035586235730509654, 0.03305451347573245, 0.0307029062975785, 0.028518600215064777, 0.02648969287610527, 0.024605128701222573, 0.022854638641349907, 0.021228684221461944, 0.01971840556512642, 0.01831557311676062, 0.017012542798525893, 0.015802214357508698, 0.01467799267622069, 0.013633751835597433, 0.012663801734674034, 0.011762857085047235, 0.01092600861117378, 0.010148696299574591, 0.009426684551178854, 0.008756039101412363, 0.008133105582266927, 0.00755448960953496, 0.00701703828670383, 0.006517823024724289, 0.006054123584037268, 0.005623413251903491]\n"
     ]
    },
    {
     "name": "stderr",
     "output_type": "stream",
     "text": [
      " 88%|████████▊ | 53/60 [50:18<06:38, 56.95s/it] \n"
     ]
    },
    {
     "name": "stdout",
     "output_type": "stream",
     "text": [
      "Convergence point found!\n",
      "dt:0.00015995614134416182, dx:0.008756039101412363\n",
      "time:597.2747142314911\n",
      "convergence_coefficient:0.0009919731868588244\n"
     ]
    },
    {
     "name": "stderr",
     "output_type": "stream",
     "text": [
      " 88%|████████▊ | 53/60 [2:23:41<18:58, 162.67s/it]  \n"
     ]
    },
    {
     "name": "stdout",
     "output_type": "stream",
     "text": [
      "Convergence point found!\n",
      "dt:5.345041387254026e-05, dx:0.008756039101412363\n",
      "time:1713.2532353401184\n",
      "convergence_coefficient:0.00048569070780264814\n"
     ]
    },
    {
     "name": "stderr",
     "output_type": "stream",
     "text": [
      " 27%|██▋       | 16/60 [00:00<00:00, 155.60it/s]"
     ]
    },
    {
     "name": "stdout",
     "output_type": "stream",
     "text": [
      "Convergence point found!\n",
      "dt:0.1326261056029247, dx:0.1\n",
      "time:0.15822362899780273\n",
      "convergence_coefficient:0.00030373824917372084\n"
     ]
    },
    {
     "name": "stderr",
     "output_type": "stream",
     "text": [
      " 33%|███▎      | 20/60 [00:00<00:01, 30.06it/s] \n",
      "  8%|▊         | 5/60 [00:00<00:00, 476.78it/s]\n"
     ]
    },
    {
     "name": "stdout",
     "output_type": "stream",
     "text": [
      "Convergence point found!\n",
      "dt:33.21528220147687, dx:1.0754220761125606\n",
      "time:0.0\n",
      "convergence_coefficient:1.080254571186386e-05\n"
     ]
    },
    {
     "name": "stderr",
     "output_type": "stream",
     "text": [
      " 70%|███████   | 42/60 [00:43<00:18,  1.05s/it]\n"
     ]
    },
    {
     "name": "stdout",
     "output_type": "stream",
     "text": [
      "Convergence point found!\n",
      "dt:0.006617388679817132, dx:0.01971840556512642\n",
      "time:8.13209342956543\n",
      "convergence_coefficient:0.0009358932892415896\n"
     ]
    },
    {
     "name": "stderr",
     "output_type": "stream",
     "text": [
      " 68%|██████▊   | 41/60 [05:49<02:41,  8.52s/it]\n"
     ]
    },
    {
     "name": "stdout",
     "output_type": "stream",
     "text": [
      "Convergence point found!\n",
      "dt:0.00038195526649583615, dx:0.021228684221461944\n",
      "time:63.124598026275635\n",
      "convergence_coefficient:0.0009433306652298064\n"
     ]
    },
    {
     "name": "stderr",
     "output_type": "stream",
     "text": [
      " 33%|███▎      | 20/60 [00:03<00:07,  5.54it/s] \n"
     ]
    },
    {
     "name": "stdout",
     "output_type": "stream",
     "text": [
      "Convergence point found!\n",
      "dt:0.007235118819922034, dx:0.1\n",
      "time:1.0101358890533447\n",
      "convergence_coefficient:0.0008155806591560058\n"
     ]
    },
    {
     "name": "stderr",
     "output_type": "stream",
     "text": [
      " 55%|█████▌    | 33/60 [00:01<00:01, 16.57it/s] \n"
     ]
    },
    {
     "name": "stdout",
     "output_type": "stream",
     "text": [
      "Convergence point found!\n",
      "dt:0.03240721111831983, dx:0.03831186849557287\n",
      "time:0.44117307662963867\n",
      "convergence_coefficient:0.0009504351330288944\n"
     ]
    },
    {
     "name": "stderr",
     "output_type": "stream",
     "text": [
      " 88%|████████▊ | 53/60 [41:54<05:32, 47.45s/it] \n"
     ]
    },
    {
     "name": "stdout",
     "output_type": "stream",
     "text": [
      "Convergence point found!\n",
      "dt:8.709538574590259e-05, dx:0.008756039101412363\n",
      "time:552.2390472888947\n",
      "convergence_coefficient:0.0003519161638276865\n"
     ]
    },
    {
     "name": "stderr",
     "output_type": "stream",
     "text": [
      " 87%|████████▋ | 52/60 [42:19<06:30, 48.85s/it] \n"
     ]
    },
    {
     "name": "stdout",
     "output_type": "stream",
     "text": [
      "Convergence point found!\n",
      "dt:0.00012299111062963035, dx:0.009426684551178854\n",
      "time:487.420795917511\n",
      "convergence_coefficient:0.0005297038442944238\n"
     ]
    },
    {
     "name": "stderr",
     "output_type": "stream",
     "text": [
      " 83%|████████▎ | 50/60 [23:46<04:45, 28.53s/it] \n"
     ]
    },
    {
     "name": "stdout",
     "output_type": "stream",
     "text": [
      "Convergence point found!\n",
      "dt:9.508468587745876e-05, dx:0.01092600861117378\n",
      "time:240.35504150390625\n",
      "convergence_coefficient:0.0005255616249146531\n"
     ]
    },
    {
     "name": "stderr",
     "output_type": "stream",
     "text": [
      " 35%|███▌      | 21/60 [00:00<00:01, 38.03it/s] "
     ]
    },
    {
     "name": "stdout",
     "output_type": "stream",
     "text": [
      "Convergence point found!\n",
      "dt:0.06412898097667717, dx:0.0928856699709695\n",
      "time:0.14452266693115234\n",
      "convergence_coefficient:0.00012999257493436896\n"
     ]
    },
    {
     "name": "stderr",
     "output_type": "stream",
     "text": [
      "\n",
      " 97%|█████████▋| 58/60 [1:58:54<31:55, 957.55s/it]"
     ]
    }
   ],
   "source": [
    "import numpy as np\n",
    "import matplotlib.pyplot as plt\n",
    "import time\n",
    "from tqdm import tqdm\n",
    "from matplotlib.ticker import ScalarFormatter\n",
    "from numpy.linalg import LinAlgError\n",
    "\n",
    "bonds_converged_points = {}\n",
    "# 生成 dx 值\n",
    "dx_values = list(np.logspace(-2.25, -1, 40)) + list(np.logspace(-1, 0.4, 20))\n",
    "dx_values.reverse()\n",
    "print(f\"dx in our test: {dx_values}\")\n",
    "\n",
    "for data in samples:\n",
    "    Year = data['Year']\n",
    "    v = data['v']\n",
    "    d = data['d']\n",
    "    CDS = data['CDS']\n",
    "    CP = 100\n",
    "    S = data['Moneyness'] * CP\n",
    "    Coupon = data['Coupon']\n",
    "    CPT = data['CPT']\n",
    "    CFQ = 2\n",
    "    \n",
    "    \n",
    "    prices = []\n",
    "    \n",
    "    for dx in tqdm(dx_values):\n",
    "        start_time = time.time()  # 计时开始\n",
    "        \n",
    "        dt = 2 * dx**2 / (v / 100)**2  # CFL\n",
    "        price = crank_nicolson_TF_dxdt(100, Year, v/100, r, d, CDS/10000, CP, Coupon, CFQ, CPT, \n",
    "                                        dx, dt, S)\n",
    "        prices.append(price)\n",
    "        \n",
    "        end_time = time.time()  # 计时结束\n",
    "        computation_time = end_time-start_time\n",
    "\n",
    "        params_dict = {\n",
    "            \"TTM(Year)\": Year,\n",
    "            \"IV\": v/100,  # 假设变量名是 v_100\n",
    "            \"r\": r,\n",
    "            \"d\": d,\n",
    "            \"CDS/10000\": CDS/10000,  # 假设变量名是 CDS_10000\n",
    "            \"Conversion Price\": CP,\n",
    "            \"Coupon\": Coupon,\n",
    "            \"Coupon Frequency\": CFQ,\n",
    "            \"CPT\": CPT,\n",
    "            \"dx\": dx,\n",
    "            \"dt\": dt,\n",
    "            \"S\": S,\n",
    "            \"computation_time\": computation_time\n",
    "        }\n",
    "        \n",
    "        if len(prices) > 3:\n",
    "            convergence_coefficient = (abs(price-prices[-1])+abs(price-prices[-2])+abs(price-prices[-3]))/3/price\n",
    "            if convergence_coefficient < 0.001:\n",
    "                print(\"Convergence point found!\")\n",
    "                print(f\"dt:{dt}, dx:{dx}\")\n",
    "                print(f\"time:{computation_time}\")\n",
    "                print(f\"convergence_coefficient:{convergence_coefficient}\")\n",
    "                break\n",
    "            \n",
    "    bond_name = Name_df.iloc[i,0]\n",
    "    bonds_converged_points[bond_name] = params_dict\n",
    "\n",
    "\n",
    "results = pd.DataFrame(bonds_converged_points)\n",
    "results"
   ]
  },
  {
   "cell_type": "code",
   "execution_count": null,
   "id": "3065b767-bd3f-4762-bad4-345fa4b0c7ad",
   "metadata": {},
   "outputs": [],
   "source": [
    "results"
   ]
  },
  {
   "cell_type": "markdown",
   "id": "81afa129-8a90-4c32-9efd-4356fb942e8d",
   "metadata": {},
   "source": [
    "## Visualization"
   ]
  },
  {
   "cell_type": "code",
   "execution_count": null,
   "id": "7f756bb3-8789-48e7-9548-22873c38e53c",
   "metadata": {},
   "outputs": [],
   "source": [
    "import pandas as pd\n",
    "import numpy as np\n",
    "import matplotlib.pyplot as plt\n",
    "import seaborn as sns\n",
    "\n",
    "df = results\n",
    "\n",
    "# 计算log(dx)\n",
    "df['log_dx'] = np.log(df['dx'])\n",
    "df['Moneyness'] = df['S']/df['Conversion Price']\n",
    "\n",
    "# 选择几个关键变量绘制散点图\n",
    "variables = ['TTM(Year)', 'IV', 'd', 'CDS/10000', 'Coupon', 'Moneyness']\n",
    "\n",
    "plt.figure(figsize=(15, 10))\n",
    "for i, var in enumerate(variables, 1):\n",
    "    plt.subplot(3, 3, i)\n",
    "    sns.scatterplot(data=df, x=var, y='log_dx')\n",
    "    plt.title(f'log(dx) vs {var}')\n",
    "    plt.xlabel(var)\n",
    "    plt.ylabel('log(dx)')\n",
    "    \n",
    "plt.tight_layout()\n",
    "plt.show()"
   ]
  },
  {
   "cell_type": "markdown",
   "id": "ed4a7f9a-a376-4e89-b59d-de704f24984f",
   "metadata": {},
   "source": [
    "#  Prof. Feng's advice"
   ]
  },
  {
   "cell_type": "code",
   "execution_count": null,
   "id": "8909ab9e-0485-48ab-a370-b305a9034840",
   "metadata": {},
   "outputs": [],
   "source": []
  }
 ],
 "metadata": {
  "kernelspec": {
   "display_name": "base",
   "language": "python",
   "name": "python3"
  },
  "language_info": {
   "codemirror_mode": {
    "name": "ipython",
    "version": 3
   },
   "file_extension": ".py",
   "mimetype": "text/x-python",
   "name": "python",
   "nbconvert_exporter": "python",
   "pygments_lexer": "ipython3",
   "version": "3.12.4"
  }
 },
 "nbformat": 4,
 "nbformat_minor": 5
}
